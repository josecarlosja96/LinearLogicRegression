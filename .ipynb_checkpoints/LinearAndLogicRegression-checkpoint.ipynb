{
 "cells": [
  {
   "cell_type": "code",
   "execution_count": 1,
   "id": "8c6498a2",
   "metadata": {
    "scrolled": true
   },
   "outputs": [
    {
     "name": "stderr",
     "output_type": "stream",
     "text": [
      "Loading required package: carData\n",
      "\n",
      "Loading required package: lattice\n",
      "\n",
      "Loading required package: survival\n",
      "\n",
      "Loading required package: Formula\n",
      "\n",
      "Loading required package: ggplot2\n",
      "\n",
      "\n",
      "Attaching package: 'Hmisc'\n",
      "\n",
      "\n",
      "The following objects are masked from 'package:questionr':\n",
      "\n",
      "    describe, wtd.mean, wtd.table, wtd.var\n",
      "\n",
      "\n",
      "The following objects are masked from 'package:base':\n",
      "\n",
      "    format.pval, units\n",
      "\n",
      "\n",
      "corrplot 0.88 loaded\n",
      "\n",
      "\n",
      "Attaching package: 'dplyr'\n",
      "\n",
      "\n",
      "The following objects are masked from 'package:Hmisc':\n",
      "\n",
      "    src, summarize\n",
      "\n",
      "\n",
      "The following object is masked from 'package:car':\n",
      "\n",
      "    recode\n",
      "\n",
      "\n",
      "The following objects are masked from 'package:stats':\n",
      "\n",
      "    filter, lag\n",
      "\n",
      "\n",
      "The following objects are masked from 'package:base':\n",
      "\n",
      "    intersect, setdiff, setequal, union\n",
      "\n",
      "\n",
      "\n",
      "Attaching package: 'caret'\n",
      "\n",
      "\n",
      "The following object is masked from 'package:survival':\n",
      "\n",
      "    cluster\n",
      "\n",
      "\n"
     ]
    }
   ],
   "source": [
    "library(questionr)\n",
    "library(car)\n",
    "library(Hmisc)\n",
    "library(readxl)\n",
    "library(corrplot)\n",
    "library(ggplot2)\n",
    "library(tidyr)\n",
    "library(dplyr)\n",
    "library(caret)"
   ]
  },
  {
   "cell_type": "code",
   "execution_count": 4,
   "id": "68046293",
   "metadata": {},
   "outputs": [],
   "source": [
    "datos <- read_excel(\"C:/Users/JoseCarlos/Desktop/Minería de datos/DatosEleccionesEuropeas2019.xlsx\")"
   ]
  },
  {
   "cell_type": "code",
   "execution_count": 5,
   "id": "75282af1",
   "metadata": {},
   "outputs": [],
   "source": [
    "source(\"C:/Users/JoseCarlos/Desktop/EjemploRMineria/FuncionesMineriaAida.R\")"
   ]
  },
  {
   "cell_type": "markdown",
   "id": "c1d8bdd3",
   "metadata": {},
   "source": [
    "### Depuración de datos"
   ]
  },
  {
   "cell_type": "code",
   "execution_count": 4,
   "id": "1099754b",
   "metadata": {},
   "outputs": [],
   "source": [
    "# 1. Asignar variables categóricas como factores\n",
    "datos[,c(12,13,32)] <- lapply(datos[,c(12,13,32)], as.factor)"
   ]
  },
  {
   "cell_type": "code",
   "execution_count": 5,
   "id": "8601e6c3",
   "metadata": {
    "scrolled": true
   },
   "outputs": [
    {
     "data": {
      "text/html": [
       "<style>\n",
       ".dl-inline {width: auto; margin:0; padding: 0}\n",
       ".dl-inline>dt, .dl-inline>dd {float: none; width: auto; display: inline-block}\n",
       ".dl-inline>dt::after {content: \":\\0020\"; padding-right: .5ex}\n",
       ".dl-inline>dt:not(:first-of-type) {padding-left: .5ex}\n",
       "</style><dl class=dl-inline><dt>VotosEmitidos</dt><dd>2962</dd><dt>Abstenciones</dt><dd>2040</dd><dt>Blancos</dt><dd>319</dd><dt>Nulos</dt><dd>314</dd><dt>Cs</dt><dd>1072</dd><dt>PP</dt><dd>1489</dd><dt>PSOE</dt><dd>1909</dd><dt>VOX</dt><dd>790</dd><dt>Podemos</dt><dd>1049</dd><dt>Otros</dt><dd>1357</dd><dt>Censo</dt><dd>3287</dd><dt>Population</dt><dd>3489</dd><dt>Age_under19_Ptge</dt><dd>6002</dd><dt>Age_over65_Ptge</dt><dd>6773</dd><dt>WomanPopulationPtge</dt><dd>4519</dd><dt>ForeignersPtge</dt><dd>5077</dd><dt>UniversityPtge</dt><dd>1997</dd><dt>totalEmpresas</dt><dd>1226</dd><dt>IndustriaPtge</dt><dd>1328</dd><dt>ConstruccionPtge</dt><dd>1452</dd><dt>ComercTTEHosteleriaPtge</dt><dd>1796</dd><dt>ServiciosPtge</dt><dd>1858</dd><dt>Inmuebles</dt><dd>3123</dd><dt>Superficie</dt><dd>5709</dd><dt>Densidad</dt><dd>4642</dd><dt>PobChange_pct</dt><dd>3048</dd><dt>PersonasInmueble</dt><dd>283</dd><dt>Explotaciones</dt><dd>762</dd><dt>UnemploymentPtge</dt><dd>1443</dd><dt>WomenUnemploymentPtge</dt><dd>1785</dd><dt>UnemployLess25_Ptge</dt><dd>1174</dd><dt>UnemployMore40_Ptge</dt><dd>1914</dd><dt>AgricultureUnemploymentPtge</dt><dd>1540</dd><dt>IndustryUnemploymentPtge</dt><dd>1622</dd><dt>ConstructionUnemploymentPtge</dt><dd>1322</dd><dt>ServicesUnemploymentPtge</dt><dd>2129</dd><dt>AutonomosPtge</dt><dd>1939</dd></dl>\n"
      ],
      "text/latex": [
       "\\begin{description*}\n",
       "\\item[VotosEmitidos] 2962\n",
       "\\item[Abstenciones] 2040\n",
       "\\item[Blancos] 319\n",
       "\\item[Nulos] 314\n",
       "\\item[Cs] 1072\n",
       "\\item[PP] 1489\n",
       "\\item[PSOE] 1909\n",
       "\\item[VOX] 790\n",
       "\\item[Podemos] 1049\n",
       "\\item[Otros] 1357\n",
       "\\item[Censo] 3287\n",
       "\\item[Population] 3489\n",
       "\\item[Age\\textbackslash{}\\_under19\\textbackslash{}\\_Ptge] 6002\n",
       "\\item[Age\\textbackslash{}\\_over65\\textbackslash{}\\_Ptge] 6773\n",
       "\\item[WomanPopulationPtge] 4519\n",
       "\\item[ForeignersPtge] 5077\n",
       "\\item[UniversityPtge] 1997\n",
       "\\item[totalEmpresas] 1226\n",
       "\\item[IndustriaPtge] 1328\n",
       "\\item[ConstruccionPtge] 1452\n",
       "\\item[ComercTTEHosteleriaPtge] 1796\n",
       "\\item[ServiciosPtge] 1858\n",
       "\\item[Inmuebles] 3123\n",
       "\\item[Superficie] 5709\n",
       "\\item[Densidad] 4642\n",
       "\\item[PobChange\\textbackslash{}\\_pct] 3048\n",
       "\\item[PersonasInmueble] 283\n",
       "\\item[Explotaciones] 762\n",
       "\\item[UnemploymentPtge] 1443\n",
       "\\item[WomenUnemploymentPtge] 1785\n",
       "\\item[UnemployLess25\\textbackslash{}\\_Ptge] 1174\n",
       "\\item[UnemployMore40\\textbackslash{}\\_Ptge] 1914\n",
       "\\item[AgricultureUnemploymentPtge] 1540\n",
       "\\item[IndustryUnemploymentPtge] 1622\n",
       "\\item[ConstructionUnemploymentPtge] 1322\n",
       "\\item[ServicesUnemploymentPtge] 2129\n",
       "\\item[AutonomosPtge] 1939\n",
       "\\end{description*}\n"
      ],
      "text/markdown": [
       "VotosEmitidos\n",
       ":   2962Abstenciones\n",
       ":   2040Blancos\n",
       ":   319Nulos\n",
       ":   314Cs\n",
       ":   1072PP\n",
       ":   1489PSOE\n",
       ":   1909VOX\n",
       ":   790Podemos\n",
       ":   1049Otros\n",
       ":   1357Censo\n",
       ":   3287Population\n",
       ":   3489Age_under19_Ptge\n",
       ":   6002Age_over65_Ptge\n",
       ":   6773WomanPopulationPtge\n",
       ":   4519ForeignersPtge\n",
       ":   5077UniversityPtge\n",
       ":   1997totalEmpresas\n",
       ":   1226IndustriaPtge\n",
       ":   1328ConstruccionPtge\n",
       ":   1452ComercTTEHosteleriaPtge\n",
       ":   1796ServiciosPtge\n",
       ":   1858Inmuebles\n",
       ":   3123Superficie\n",
       ":   5709Densidad\n",
       ":   4642PobChange_pct\n",
       ":   3048PersonasInmueble\n",
       ":   283Explotaciones\n",
       ":   762UnemploymentPtge\n",
       ":   1443WomenUnemploymentPtge\n",
       ":   1785UnemployLess25_Ptge\n",
       ":   1174UnemployMore40_Ptge\n",
       ":   1914AgricultureUnemploymentPtge\n",
       ":   1540IndustryUnemploymentPtge\n",
       ":   1622ConstructionUnemploymentPtge\n",
       ":   1322ServicesUnemploymentPtge\n",
       ":   2129AutonomosPtge\n",
       ":   1939\n",
       "\n"
      ],
      "text/plain": [
       "               VotosEmitidos                 Abstenciones \n",
       "                        2962                         2040 \n",
       "                     Blancos                        Nulos \n",
       "                         319                          314 \n",
       "                          Cs                           PP \n",
       "                        1072                         1489 \n",
       "                        PSOE                          VOX \n",
       "                        1909                          790 \n",
       "                     Podemos                        Otros \n",
       "                        1049                         1357 \n",
       "                       Censo                   Population \n",
       "                        3287                         3489 \n",
       "            Age_under19_Ptge              Age_over65_Ptge \n",
       "                        6002                         6773 \n",
       "         WomanPopulationPtge               ForeignersPtge \n",
       "                        4519                         5077 \n",
       "              UniversityPtge                totalEmpresas \n",
       "                        1997                         1226 \n",
       "               IndustriaPtge             ConstruccionPtge \n",
       "                        1328                         1452 \n",
       "     ComercTTEHosteleriaPtge                ServiciosPtge \n",
       "                        1796                         1858 \n",
       "                   Inmuebles                   Superficie \n",
       "                        3123                         5709 \n",
       "                    Densidad                PobChange_pct \n",
       "                        4642                         3048 \n",
       "            PersonasInmueble                Explotaciones \n",
       "                         283                          762 \n",
       "            UnemploymentPtge        WomenUnemploymentPtge \n",
       "                        1443                         1785 \n",
       "         UnemployLess25_Ptge          UnemployMore40_Ptge \n",
       "                        1174                         1914 \n",
       " AgricultureUnemploymentPtge     IndustryUnemploymentPtge \n",
       "                        1540                         1622 \n",
       "ConstructionUnemploymentPtge     ServicesUnemploymentPtge \n",
       "                        1322                         2129 \n",
       "               AutonomosPtge \n",
       "                        1939 "
      ]
     },
     "metadata": {},
     "output_type": "display_data"
    }
   ],
   "source": [
    "# 2. Variables numéricas toman más de 10 valores.\n",
    "sapply(Filter(is.numeric, datos), function(x) length(unique(x)))"
   ]
  },
  {
   "cell_type": "code",
   "execution_count": 10,
   "id": "3503e060",
   "metadata": {
    "scrolled": true
   },
   "outputs": [
    {
     "data": {
      "text/plain": [
       "  CodigoINE         VotosEmitidos      Abstenciones       Blancos       \n",
       " Length:8110        Min.   :      1   Min.   :     0   Min.   :   0.00  \n",
       " Class :character   1st Qu.:    106   1st Qu.:    27   1st Qu.:   1.00  \n",
       " Mode  :character   Median :    341   Median :    93   Median :   5.00  \n",
       "                    Mean   :   2783   Mean   :  1548   Mean   :  26.68  \n",
       "                    3rd Qu.:   1379   3rd Qu.:   484   3rd Qu.:  18.00  \n",
       "                    Max.   :1623866   Max.   :767525   Max.   :8211.00  \n",
       "                                                                        \n",
       "     Nulos               Cs                 PP                PSOE         \n",
       " Min.   :   0.00   Min.   :     0.0   Min.   :     0.0   Min.   :     0.0  \n",
       " 1st Qu.:   1.00   1st Qu.:     8.0   1st Qu.:    25.0   1st Qu.:    25.0  \n",
       " Median :   4.00   Median :    26.0   Median :    75.0   Median :   101.0  \n",
       " Mean   :  23.87   Mean   :   336.1   Mean   :   555.8   Mean   :   906.4  \n",
       " 3rd Qu.:  17.00   3rd Qu.:   104.8   3rd Qu.:   284.0   3rd Qu.:   475.8  \n",
       " Max.   :5511.00   Max.   :289684.0   Max.   :383846.0   Max.   :505814.0  \n",
       "                                                                           \n",
       "      VOX              Podemos           Otros         \n",
       " Min.   :     0.0   Min.   :     0   Min.   :     0.0  \n",
       " 1st Qu.:     4.0   1st Qu.:     5   1st Qu.:     3.0  \n",
       " Median :    14.0   Median :    18   Median :    15.0  \n",
       " Mean   :   171.2   Mean   :   278   Mean   :   485.1  \n",
       " 3rd Qu.:    52.0   3rd Qu.:    89   3rd Qu.:   153.0  \n",
       " Max.   :149557.0   Max.   :213161   Max.   :373262.0  \n",
       "                                                       \n",
       "                    PartidoMasVotado             CCAA          Censo        \n",
       " PSOE                       :3966    CastillaLeón  :2248   Min.   :      3  \n",
       " PP                         :2696    Cataluña      : 947   1st Qu.:    136  \n",
       " JxCAT-JUNTS                : 769    CastillaMancha: 919   Median :    440  \n",
       " EH BILDU-ORAIN ERREPUBLIKAK: 185    Andalucía     : 773   Mean   :   4331  \n",
       " EAJ-PNV                    : 145    Aragón        : 731   3rd Qu.:   1855  \n",
       " PSC                        :  92    ComValenciana : 542   Max.   :2391391  \n",
       " (Other)                    : 257    (Other)       :1950                    \n",
       "   Population      Age_under19_Ptge Age_over65_Ptge WomanPopulationPtge\n",
       " Min.   :      3   Min.   : 0.000   Min.   : 0.00   Min.   :11.77      \n",
       " 1st Qu.:    151   1st Qu.: 8.333   1st Qu.:19.82   1st Qu.:45.72      \n",
       " Median :    509   Median :13.879   Median :27.57   Median :48.48      \n",
       " Mean   :   5396   Mean   :13.562   Mean   :29.08   Mean   :47.30      \n",
       " 3rd Qu.:   2290   3rd Qu.:19.059   3rd Qu.:36.91   3rd Qu.:50.00      \n",
       " Max.   :2908032   Max.   :33.696   Max.   :76.47   Max.   :72.68      \n",
       "                                                                       \n",
       " ForeignersPtge   UniversityPtge  totalEmpresas      IndustriaPtge   \n",
       " Min.   : 0.000   Min.   : 0.00   Min.   :     0.0   Min.   : 0.000  \n",
       " 1st Qu.: 1.621   1st Qu.: 5.56   1st Qu.:     7.0   1st Qu.: 0.000  \n",
       " Median : 4.144   Median : 9.09   Median :    30.0   Median : 0.000  \n",
       " Mean   : 6.380   Mean   :10.33   Mean   :   398.9   Mean   : 3.522  \n",
       " 3rd Qu.: 8.824   3rd Qu.:13.87   3rd Qu.:   147.0   3rd Qu.: 6.480  \n",
       " Max.   :71.468   Max.   :52.39   Max.   :299397.0   Max.   :44.680  \n",
       "                  NA's   :6       NA's   :5                          \n",
       " ConstruccionPtge ComercTTEHosteleriaPtge ServiciosPtge     Inmuebles      \n",
       " Min.   : 0.000   Min.   : 0.00           Min.   : 0.00   Min.   :      6  \n",
       " 1st Qu.: 0.000   1st Qu.: 0.00           1st Qu.: 0.00   1st Qu.:    180  \n",
       " Median : 0.000   Median : 0.00           Median : 0.00   Median :    487  \n",
       " Mean   : 6.026   Mean   :17.32           Mean   :11.92   Mean   :   3254  \n",
       " 3rd Qu.:13.227   3rd Qu.:40.77           3rd Qu.:26.61   3rd Qu.:   1600  \n",
       " Max.   :40.800   Max.   :81.48           Max.   :71.67   Max.   :1615548  \n",
       "                                                          NA's   :5        \n",
       "   Superficie         Densidad         PobChange_pct     PersonasInmueble\n",
       " Min.   :   0.03   Min.   :    0.230   Min.   :-52.270   Min.   :0.110   \n",
       " 1st Qu.:  18.44   1st Qu.:    4.642   1st Qu.:-10.405   1st Qu.:0.850   \n",
       " Median :  34.92   Median :   12.975   Median : -4.970   Median :1.250   \n",
       " Mean   :  62.38   Mean   :  171.396   Mean   : -4.903   Mean   :1.295   \n",
       " 3rd Qu.:  69.28   3rd Qu.:   52.375   3rd Qu.:  0.070   3rd Qu.:1.730   \n",
       " Max.   :1750.33   Max.   :22366.670   Max.   :138.460   Max.   :3.330   \n",
       "                                       NA's   :7         NA's   :5       \n",
       " Explotaciones    PartidoCCAA UnemploymentPtge  WomenUnemploymentPtge\n",
       " Min.   :   1.0   Otro:1652   Min.   :  0.000   Min.   :  0.00       \n",
       " 1st Qu.:  22.0   PP  :4121   1st Qu.:  3.300   1st Qu.: 45.00       \n",
       " Median :  50.0   PSOE:2337   Median :  5.500   Median : 56.45       \n",
       " Mean   : 122.3               Mean   :  5.926   Mean   : 51.85       \n",
       " 3rd Qu.: 128.0               3rd Qu.:  8.030   3rd Qu.: 63.77       \n",
       " Max.   :4759.0               Max.   :304.120   Max.   :100.00       \n",
       " NA's   :23                   NA's   :1         NA's   :1            \n",
       " UnemployLess25_Ptge UnemployMore40_Ptge AgricultureUnemploymentPtge\n",
       " Min.   :  0.000     Min.   :  0.00      Min.   :  0.000            \n",
       " 1st Qu.:  0.000     1st Qu.: 45.45      1st Qu.:  0.000            \n",
       " Median :  6.200     Median : 53.85      Median :  3.030            \n",
       " Mean   :  7.187     Mean   : 53.51      Mean   :  8.102            \n",
       " 3rd Qu.: 10.000     3rd Qu.: 64.52      3rd Qu.: 11.110            \n",
       " Max.   :100.000     Max.   :100.00      Max.   :100.000            \n",
       " NA's   :1           NA's   :1           NA's   :1                  \n",
       " IndustryUnemploymentPtge ConstructionUnemploymentPtge ServicesUnemploymentPtge\n",
       " Min.   :  0.000          Min.   :  0.000              Min.   :  0.00          \n",
       " 1st Qu.:  0.000          1st Qu.:  0.000              1st Qu.: 53.05          \n",
       " Median :  6.340          Median :  5.710              Median : 66.67          \n",
       " Mean   :  9.354          Mean   :  8.074              Mean   : 62.59          \n",
       " 3rd Qu.: 13.510          3rd Qu.: 10.290              3rd Qu.: 76.82          \n",
       " Max.   :100.000          Max.   :100.000              Max.   :100.00          \n",
       " NA's   :1                NA's   :1                    NA's   :1               \n",
       " AutonomosPtge   \n",
       " Min.   :  0.00  \n",
       " 1st Qu.:  7.98  \n",
       " Median : 10.53  \n",
       " Mean   : 11.46  \n",
       " 3rd Qu.: 14.03  \n",
       " Max.   :359.79  \n",
       " NA's   :14      "
      ]
     },
     "metadata": {},
     "output_type": "display_data"
    }
   ],
   "source": [
    "# Análisis datos:\n",
    "summary(datos)"
   ]
  },
  {
   "cell_type": "code",
   "execution_count": 11,
   "id": "7ed09076",
   "metadata": {},
   "outputs": [],
   "source": []
  },
  {
   "cell_type": "markdown",
   "id": "4ca4ee3b",
   "metadata": {},
   "source": [
    "### Corrección de los errores detectados"
   ]
  },
  {
   "cell_type": "code",
   "execution_count": 6,
   "id": "47b8c663",
   "metadata": {},
   "outputs": [],
   "source": [
    "#Valores fuera de rango de la variable porcentaje de desempleo\n",
    "datos$UnemploymentPtge<-replace(datos$UnemploymentPtge, which((datos$UnemploymentPtge < 0)|(datos$UnemploymentPtge>100)), NA)"
   ]
  },
  {
   "cell_type": "markdown",
   "id": "6b69b575",
   "metadata": {},
   "source": [
    "### Tratamiento de datos atípicos:"
   ]
  },
  {
   "cell_type": "code",
   "execution_count": 7,
   "id": "fd6d229f",
   "metadata": {},
   "outputs": [],
   "source": [
    "datos$varObjCont <- datos$PSOE / datos$VotosEmitidos * 100"
   ]
  },
  {
   "cell_type": "code",
   "execution_count": 8,
   "id": "9d358eb9",
   "metadata": {},
   "outputs": [],
   "source": [
    "datos$varObjBin <- ifelse(datos$PartidoMasVotado == \"PSOE\" | datos$PartidoMasVotado == \"PP\", 1, 0)"
   ]
  },
  {
   "cell_type": "code",
   "execution_count": 9,
   "id": "486975d4",
   "metadata": {},
   "outputs": [],
   "source": [
    "varObjCont<- datos$PSOE / datos$VotosEmitidos * 100\n",
    "varObjBin <- ifelse(datos$PartidoMasVotado == \"PSOE\" | datos$PartidoMasVotado == \"PP\", 1, 0)\n",
    "input <- as.data.frame(datos[,-(1:3)])\n",
    "#row.names(input)<-datos$ID"
   ]
  },
  {
   "cell_type": "code",
   "execution_count": 5,
   "id": "9b9a103c",
   "metadata": {
    "scrolled": true
   },
   "outputs": [
    {
     "name": "stdout",
     "output_type": "stream",
     "text": [
      "tibble[,42] [8,110 x 42] (S3: tbl_df/tbl/data.frame)\n",
      " $ CodigoINE                   : chr [1:8110] \"01001\" \"01002\" \"01003\" \"01004\" ...\n",
      " $ VotosEmitidos               : num [1:8110] 1326 5753 835 999 124 ...\n",
      " $ Abstenciones                : num [1:8110] 690 2294 341 355 52 ...\n",
      " $ Blancos                     : num [1:8110] 25 62 4 11 3 4 5 32 5 1 ...\n",
      " $ Nulos                       : num [1:8110] 15 57 2 12 2 2 8 14 5 5 ...\n",
      " $ Cs                          : num [1:8110] 31 69 0 21 6 22 8 16 7 3 ...\n",
      " $ PP                          : num [1:8110] 73 254 1 83 17 43 20 65 66 23 ...\n",
      " $ PSOE                        : num [1:8110] 257 784 26 106 19 75 85 142 34 47 ...\n",
      " $ VOX                         : num [1:8110] 39 83 5 7 9 12 3 21 3 0 ...\n",
      " $ Podemos                     : num [1:8110] 175 497 50 90 24 45 91 140 9 40 ...\n",
      " $ Otros                       : num [1:8110] 711 3947 747 669 44 ...\n",
      " $ PartidoMasVotado            : chr [1:8110] \"EAJ-PNV\" \"EAJ-PNV\" \"EH BILDU-ORAIN ERREPUBLIKAK\" \"EAJ-PNV\" ...\n",
      " $ CCAA                        : chr [1:8110] \"PaísVasco\" \"PaísVasco\" \"PaísVasco\" \"PaísVasco\" ...\n",
      " $ Censo                       : num [1:8110] 2016 8047 1176 1354 176 ...\n",
      " $ Population                  : num [1:8110] 2760 9768 1503 1710 227 ...\n",
      " $ Age_under19_Ptge            : num [1:8110] 27 17.6 21.7 20.8 22.5 ...\n",
      " $ Age_over65_Ptge             : num [1:8110] 9.85 19.73 19.37 15.97 12.71 ...\n",
      " $ WomanPopulationPtge         : num [1:8110] 48.3 50.3 47.5 50.4 49.6 ...\n",
      " $ ForeignersPtge              : num [1:8110] 7.5 5.97 2.5 4.16 8.2 ...\n",
      " $ UniversityPtge              : num [1:8110] 22.7 17.6 23 17 10.8 ...\n",
      " $ totalEmpresas               : num [1:8110] 168 616 50 109 16 77 77 166 39 66 ...\n",
      " $ IndustriaPtge               : num [1:8110] 13.1 11.85 16 6.42 0 ...\n",
      " $ ConstruccionPtge            : num [1:8110] 17.9 15.1 16 16.5 0 ...\n",
      " $ ComercTTEHosteleriaPtge     : num [1:8110] 39.3 42.9 46 48.6 0 ...\n",
      " $ ServiciosPtge               : num [1:8110] 29.8 30.2 22 28.4 0 ...\n",
      " $ Inmuebles                   : num [1:8110] 1346 5154 706 1157 153 ...\n",
      " $ Superficie                  : num [1:8110] 19.9 96.4 73.3 27.4 12.9 ...\n",
      " $ Densidad                    : num [1:8110] 138.3 101.4 20.5 62.3 17.5 ...\n",
      " $ PobChange_pct               : num [1:8110] 6.19 2.12 1.4 0.61 8.44 9.2 -1.96 3.54 -5.47 -0.55 ...\n",
      " $ PersonasInmueble            : num [1:8110] 2.14 1.99 2.15 1.58 1.59 2.06 1.58 2.23 1.19 1.77 ...\n",
      " $ Explotaciones               : num [1:8110] 20 215 101 58 12 37 51 247 56 86 ...\n",
      " $ PartidoCCAA                 : chr [1:8110] \"Otro\" \"Otro\" \"Otro\" \"Otro\" ...\n",
      " $ UnemploymentPtge            : num [1:8110] 6.89 8.67 1.19 6.79 5.11 4.23 5.13 4.7 3.95 2.53 ...\n",
      " $ WomenUnemploymentPtge       : num [1:8110] 55.4 61.5 42.9 71.7 44.4 ...\n",
      " $ UnemployLess25_Ptge         : num [1:8110] 5.76 7.16 0 3.26 11.11 ...\n",
      " $ UnemployMore40_Ptge         : num [1:8110] 48.2 47.7 64.3 50 44.4 ...\n",
      " $ AgricultureUnemploymentPtge : num [1:8110] 2.88 3.58 0 3.26 0 ...\n",
      " $ IndustryUnemploymentPtge    : num [1:8110] 12.2 12.5 42.9 16.3 0 ...\n",
      " $ ConstructionUnemploymentPtge: num [1:8110] 3.6 5.87 14.29 3.26 0 ...\n",
      " $ ServicesUnemploymentPtge    : num [1:8110] 64.8 62.6 42.9 59.8 100 ...\n",
      " $ AutonomosPtge               : num [1:8110] 10.27 7.84 4.59 8.05 11.36 ...\n",
      " $ varObjCont                  : num [1:8110] 0.1938 0.1363 0.0311 0.1061 0.1532 ...\n"
     ]
    }
   ],
   "source": [
    "for (i in names(which(sapply(input, class)==\"numeric\"))){\n",
    "    outliers(paste0(\"input$\",i))\n",
    "}"
   ]
  },
  {
   "cell_type": "markdown",
   "id": "cc7cc67a",
   "metadata": {},
   "source": [
    "### Gestión de datos ausentes"
   ]
  },
  {
   "cell_type": "code",
   "execution_count": 6,
   "id": "6c6cb88f",
   "metadata": {},
   "outputs": [],
   "source": [
    "input$prop_missings <- rowMeans(is.na(input))\n",
    "summary(input$prop_missings)"
   ]
  },
  {
   "cell_type": "code",
   "execution_count": null,
   "id": "21d361a2",
   "metadata": {},
   "outputs": [],
   "source": [
    "# TBD"
   ]
  },
  {
   "cell_type": "markdown",
   "id": "b6d94820",
   "metadata": {},
   "source": [
    "## Análisis de las relaciones entre variables"
   ]
  },
  {
   "cell_type": "code",
   "execution_count": 42,
   "id": "135393b3",
   "metadata": {
    "scrolled": true
   },
   "outputs": [
    {
     "data": {
      "image/png": "[encoded data removed]",
      "text/plain": [
       "Plot with title \"\""
      ]
     },
     "metadata": {
      "image/png": {
       "height": 420,
       "width": 420
      }
     },
     "output_type": "display_data"
    }
   ],
   "source": [
    "mosaico(datos$VotosEmitidos , varObjBin , \"Region\")"
   ]
  },
  {
   "cell_type": "code",
   "execution_count": 7,
   "id": "aebc51e9",
   "metadata": {
    "scrolled": true
   },
   "outputs": [
    {
     "name": "stderr",
     "output_type": "stream",
     "text": [
      "Registered S3 method overwritten by 'GGally':\n",
      "  method from   \n",
      "  +.gg   ggplot2\n",
      "\n"
     ]
    }
   ],
   "source": [
    "library(GGally)"
   ]
  },
  {
   "cell_type": "code",
   "execution_count": 8,
   "id": "88d669fc",
   "metadata": {
    "scrolled": true
   },
   "outputs": [
    {
     "name": "stderr",
     "output_type": "stream",
     "text": [
      "\n",
      "Attaching package: 'psych'\n",
      "\n",
      "\n",
      "The following object is masked from 'package:Hmisc':\n",
      "\n",
      "    describe\n",
      "\n",
      "\n",
      "The following objects are masked from 'package:ggplot2':\n",
      "\n",
      "    %+%, alpha\n",
      "\n",
      "\n",
      "The following object is masked from 'package:car':\n",
      "\n",
      "    logit\n",
      "\n",
      "\n",
      "The following object is masked from 'package:questionr':\n",
      "\n",
      "    describe\n",
      "\n",
      "\n"
     ]
    }
   ],
   "source": [
    "library(psych)"
   ]
  },
  {
   "cell_type": "code",
   "execution_count": 9,
   "id": "80e23a65",
   "metadata": {},
   "outputs": [
    {
     "data": {
      "image/png": "[encoded data removed]",
      "text/plain": [
       "Plot with title \"\""
      ]
     },
     "metadata": {
      "image/png": {
       "height": 420,
       "width": 420
      }
     },
     "output_type": "display_data"
    }
   ],
   "source": [
    "multi.hist(x = nums, dcol = c(\"blue\", \"red\"), dlty = c(\"dotted\", \"solid\"),main = \"\")"
   ]
  },
  {
   "cell_type": "code",
   "execution_count": 10,
   "id": "2e5845c1",
   "metadata": {},
   "outputs": [],
   "source": [
    "modelo <- lm(PSOE ~ VotosEmitidos + Abstenciones + Blancos + Nulos + Cs + PP + VOX + Podemos + Otros, data = nums )"
   ]
  },
  {
   "cell_type": "code",
   "execution_count": 11,
   "id": "f78f6ad5",
   "metadata": {
    "scrolled": true
   },
   "outputs": [
    {
     "name": "stdout",
     "output_type": "stream",
     "text": [
      "Start:  AIC=-365768.5\n",
      "PSOE ~ VotosEmitidos + Abstenciones + Blancos + Nulos + Cs + \n",
      "    PP + VOX + Podemos + Otros\n",
      "\n"
     ]
    },
    {
     "name": "stderr",
     "output_type": "stream",
     "text": [
      "Warning message:\n",
      "\"attempting model selection on an essentially perfect fit is nonsense\"\n"
     ]
    },
    {
     "name": "stdout",
     "output_type": "stream",
     "text": [
      "                Df  Sum of Sq        RSS     AIC\n",
      "<none>                                 0 -365768\n",
      "- Abstenciones   1          0          0 -365731\n",
      "- Nulos          1    3905813    3905813   50114\n",
      "- Blancos        1    4417711    4417711   51113\n",
      "- VOX            1  231480232  231480232   83220\n",
      "- Podemos        1  386671197  386671197   87381\n",
      "- Cs             1  390010296  390010296   87451\n",
      "- PP             1 1034616441 1034616441   95363\n",
      "- VotosEmitidos  1 2347407194 2347407194  102007\n",
      "- Otros          1 2665577063 2665577063  103038\n"
     ]
    },
    {
     "data": {
      "text/plain": [
       "\n",
       "Call:\n",
       "lm(formula = PSOE ~ VotosEmitidos + Abstenciones + Blancos + \n",
       "    Nulos + Cs + PP + VOX + Podemos + Otros, data = nums)\n",
       "\n",
       "Coefficients:\n",
       "  (Intercept)  VotosEmitidos   Abstenciones        Blancos          Nulos  \n",
       "    1.002e-11      1.000e+00      2.852e-16     -1.000e+00     -1.000e+00  \n",
       "           Cs             PP            VOX        Podemos          Otros  \n",
       "   -1.000e+00     -1.000e+00     -1.000e+00     -1.000e+00     -1.000e+00  \n"
      ]
     },
     "metadata": {},
     "output_type": "display_data"
    }
   ],
   "source": [
    "step(object = modelo, direction = \"both\", trace = 1)"
   ]
  },
  {
   "cell_type": "code",
   "execution_count": 8,
   "id": "7422235a",
   "metadata": {},
   "outputs": [],
   "source": [
    "modelo <- lm(varObjCont ~ ., data = datos )"
   ]
  },
  {
   "cell_type": "code",
   "execution_count": 10,
   "id": "18212178",
   "metadata": {},
   "outputs": [
    {
     "data": {
      "text/html": [
       "<style>\n",
       ".dl-inline {width: auto; margin:0; padding: 0}\n",
       ".dl-inline>dt, .dl-inline>dd {float: none; width: auto; display: inline-block}\n",
       ".dl-inline>dt::after {content: \":\\0020\"; padding-right: .5ex}\n",
       ".dl-inline>dt:not(:first-of-type) {padding-left: .5ex}\n",
       "</style><dl class=dl-inline><dt>VotosEmitidos</dt><dd>2962</dd><dt>Abstenciones</dt><dd>2040</dd><dt>Blancos</dt><dd>319</dd><dt>Nulos</dt><dd>314</dd><dt>Cs</dt><dd>1072</dd><dt>PP</dt><dd>1489</dd><dt>PSOE</dt><dd>1909</dd><dt>VOX</dt><dd>790</dd><dt>Podemos</dt><dd>1049</dd><dt>Otros</dt><dd>1357</dd><dt>Censo</dt><dd>3287</dd><dt>Population</dt><dd>3489</dd><dt>Age_under19_Ptge</dt><dd>6002</dd><dt>Age_over65_Ptge</dt><dd>6773</dd><dt>WomanPopulationPtge</dt><dd>4519</dd><dt>ForeignersPtge</dt><dd>5077</dd><dt>UniversityPtge</dt><dd>1997</dd><dt>totalEmpresas</dt><dd>1226</dd><dt>IndustriaPtge</dt><dd>1328</dd><dt>ConstruccionPtge</dt><dd>1452</dd><dt>ComercTTEHosteleriaPtge</dt><dd>1796</dd><dt>ServiciosPtge</dt><dd>1858</dd><dt>Inmuebles</dt><dd>3123</dd><dt>Superficie</dt><dd>5709</dd><dt>Densidad</dt><dd>4642</dd><dt>PobChange_pct</dt><dd>3048</dd><dt>PersonasInmueble</dt><dd>283</dd><dt>Explotaciones</dt><dd>762</dd><dt>UnemploymentPtge</dt><dd>1443</dd><dt>WomenUnemploymentPtge</dt><dd>1785</dd><dt>UnemployLess25_Ptge</dt><dd>1174</dd><dt>UnemployMore40_Ptge</dt><dd>1914</dd><dt>AgricultureUnemploymentPtge</dt><dd>1540</dd><dt>IndustryUnemploymentPtge</dt><dd>1622</dd><dt>ConstructionUnemploymentPtge</dt><dd>1322</dd><dt>ServicesUnemploymentPtge</dt><dd>2129</dd><dt>AutonomosPtge</dt><dd>1939</dd><dt>varObjCont</dt><dd>6291</dd></dl>\n"
      ],
      "text/latex": [
       "\\begin{description*}\n",
       "\\item[VotosEmitidos] 2962\n",
       "\\item[Abstenciones] 2040\n",
       "\\item[Blancos] 319\n",
       "\\item[Nulos] 314\n",
       "\\item[Cs] 1072\n",
       "\\item[PP] 1489\n",
       "\\item[PSOE] 1909\n",
       "\\item[VOX] 790\n",
       "\\item[Podemos] 1049\n",
       "\\item[Otros] 1357\n",
       "\\item[Censo] 3287\n",
       "\\item[Population] 3489\n",
       "\\item[Age\\textbackslash{}\\_under19\\textbackslash{}\\_Ptge] 6002\n",
       "\\item[Age\\textbackslash{}\\_over65\\textbackslash{}\\_Ptge] 6773\n",
       "\\item[WomanPopulationPtge] 4519\n",
       "\\item[ForeignersPtge] 5077\n",
       "\\item[UniversityPtge] 1997\n",
       "\\item[totalEmpresas] 1226\n",
       "\\item[IndustriaPtge] 1328\n",
       "\\item[ConstruccionPtge] 1452\n",
       "\\item[ComercTTEHosteleriaPtge] 1796\n",
       "\\item[ServiciosPtge] 1858\n",
       "\\item[Inmuebles] 3123\n",
       "\\item[Superficie] 5709\n",
       "\\item[Densidad] 4642\n",
       "\\item[PobChange\\textbackslash{}\\_pct] 3048\n",
       "\\item[PersonasInmueble] 283\n",
       "\\item[Explotaciones] 762\n",
       "\\item[UnemploymentPtge] 1443\n",
       "\\item[WomenUnemploymentPtge] 1785\n",
       "\\item[UnemployLess25\\textbackslash{}\\_Ptge] 1174\n",
       "\\item[UnemployMore40\\textbackslash{}\\_Ptge] 1914\n",
       "\\item[AgricultureUnemploymentPtge] 1540\n",
       "\\item[IndustryUnemploymentPtge] 1622\n",
       "\\item[ConstructionUnemploymentPtge] 1322\n",
       "\\item[ServicesUnemploymentPtge] 2129\n",
       "\\item[AutonomosPtge] 1939\n",
       "\\item[varObjCont] 6291\n",
       "\\end{description*}\n"
      ],
      "text/markdown": [
       "VotosEmitidos\n",
       ":   2962Abstenciones\n",
       ":   2040Blancos\n",
       ":   319Nulos\n",
       ":   314Cs\n",
       ":   1072PP\n",
       ":   1489PSOE\n",
       ":   1909VOX\n",
       ":   790Podemos\n",
       ":   1049Otros\n",
       ":   1357Censo\n",
       ":   3287Population\n",
       ":   3489Age_under19_Ptge\n",
       ":   6002Age_over65_Ptge\n",
       ":   6773WomanPopulationPtge\n",
       ":   4519ForeignersPtge\n",
       ":   5077UniversityPtge\n",
       ":   1997totalEmpresas\n",
       ":   1226IndustriaPtge\n",
       ":   1328ConstruccionPtge\n",
       ":   1452ComercTTEHosteleriaPtge\n",
       ":   1796ServiciosPtge\n",
       ":   1858Inmuebles\n",
       ":   3123Superficie\n",
       ":   5709Densidad\n",
       ":   4642PobChange_pct\n",
       ":   3048PersonasInmueble\n",
       ":   283Explotaciones\n",
       ":   762UnemploymentPtge\n",
       ":   1443WomenUnemploymentPtge\n",
       ":   1785UnemployLess25_Ptge\n",
       ":   1174UnemployMore40_Ptge\n",
       ":   1914AgricultureUnemploymentPtge\n",
       ":   1540IndustryUnemploymentPtge\n",
       ":   1622ConstructionUnemploymentPtge\n",
       ":   1322ServicesUnemploymentPtge\n",
       ":   2129AutonomosPtge\n",
       ":   1939varObjCont\n",
       ":   6291\n",
       "\n"
      ],
      "text/plain": [
       "               VotosEmitidos                 Abstenciones \n",
       "                        2962                         2040 \n",
       "                     Blancos                        Nulos \n",
       "                         319                          314 \n",
       "                          Cs                           PP \n",
       "                        1072                         1489 \n",
       "                        PSOE                          VOX \n",
       "                        1909                          790 \n",
       "                     Podemos                        Otros \n",
       "                        1049                         1357 \n",
       "                       Censo                   Population \n",
       "                        3287                         3489 \n",
       "            Age_under19_Ptge              Age_over65_Ptge \n",
       "                        6002                         6773 \n",
       "         WomanPopulationPtge               ForeignersPtge \n",
       "                        4519                         5077 \n",
       "              UniversityPtge                totalEmpresas \n",
       "                        1997                         1226 \n",
       "               IndustriaPtge             ConstruccionPtge \n",
       "                        1328                         1452 \n",
       "     ComercTTEHosteleriaPtge                ServiciosPtge \n",
       "                        1796                         1858 \n",
       "                   Inmuebles                   Superficie \n",
       "                        3123                         5709 \n",
       "                    Densidad                PobChange_pct \n",
       "                        4642                         3048 \n",
       "            PersonasInmueble                Explotaciones \n",
       "                         283                          762 \n",
       "            UnemploymentPtge        WomenUnemploymentPtge \n",
       "                        1443                         1785 \n",
       "         UnemployLess25_Ptge          UnemployMore40_Ptge \n",
       "                        1174                         1914 \n",
       " AgricultureUnemploymentPtge     IndustryUnemploymentPtge \n",
       "                        1540                         1622 \n",
       "ConstructionUnemploymentPtge     ServicesUnemploymentPtge \n",
       "                        1322                         2129 \n",
       "               AutonomosPtge                   varObjCont \n",
       "                        1939                         6291 "
      ]
     },
     "metadata": {},
     "output_type": "display_data"
    }
   ],
   "source": [
    "sapply(Filter(is.numeric, datos), function(x) length(unique(x)))"
   ]
  },
  {
   "cell_type": "code",
   "execution_count": 14,
   "id": "a39f3870",
   "metadata": {
    "scrolled": true
   },
   "outputs": [
    {
     "name": "stdout",
     "output_type": "stream",
     "text": [
      "tibble[,42] [8,110 x 42] (S3: tbl_df/tbl/data.frame)\n",
      " $ CodigoINE                   : chr [1:8110] \"01001\" \"01002\" \"01003\" \"01004\" ...\n",
      " $ VotosEmitidos               : num [1:8110] 1326 5753 835 999 124 ...\n",
      " $ Abstenciones                : num [1:8110] 690 2294 341 355 52 ...\n",
      " $ Blancos                     : num [1:8110] 25 62 4 11 3 4 5 32 5 1 ...\n",
      " $ Nulos                       : num [1:8110] 15 57 2 12 2 2 8 14 5 5 ...\n",
      " $ Cs                          : num [1:8110] 31 69 0 21 6 22 8 16 7 3 ...\n",
      " $ PP                          : num [1:8110] 73 254 1 83 17 43 20 65 66 23 ...\n",
      " $ PSOE                        : num [1:8110] 257 784 26 106 19 75 85 142 34 47 ...\n",
      " $ VOX                         : num [1:8110] 39 83 5 7 9 12 3 21 3 0 ...\n",
      " $ Podemos                     : num [1:8110] 175 497 50 90 24 45 91 140 9 40 ...\n",
      " $ Otros                       : num [1:8110] 711 3947 747 669 44 ...\n",
      " $ PartidoMasVotado            : Factor w/ 19 levels \"BNG-AGORA REPÚBLICAS\",..: 8 8 9 8 8 8 9 8 15 9 ...\n",
      " $ CCAA                        : Factor w/ 19 levels \"Andalucía\",\"Aragón\",..: 18 18 18 18 18 18 18 18 18 18 ...\n",
      " $ Censo                       : num [1:8110] 2016 8047 1176 1354 176 ...\n",
      " $ Population                  : num [1:8110] 2760 9768 1503 1710 227 ...\n",
      " $ Age_under19_Ptge            : num [1:8110] 27 17.6 21.7 20.8 22.5 ...\n",
      " $ Age_over65_Ptge             : num [1:8110] 9.85 19.73 19.37 15.97 12.71 ...\n",
      " $ WomanPopulationPtge         : num [1:8110] 48.3 50.3 47.5 50.4 49.6 ...\n",
      " $ ForeignersPtge              : num [1:8110] 7.5 5.97 2.5 4.16 8.2 ...\n",
      " $ UniversityPtge              : num [1:8110] 22.7 17.6 23 17 10.8 ...\n",
      " $ totalEmpresas               : num [1:8110] 168 616 50 109 16 77 77 166 39 66 ...\n",
      " $ IndustriaPtge               : num [1:8110] 13.1 11.85 16 6.42 0 ...\n",
      " $ ConstruccionPtge            : num [1:8110] 17.9 15.1 16 16.5 0 ...\n",
      " $ ComercTTEHosteleriaPtge     : num [1:8110] 39.3 42.9 46 48.6 0 ...\n",
      " $ ServiciosPtge               : num [1:8110] 29.8 30.2 22 28.4 0 ...\n",
      " $ Inmuebles                   : num [1:8110] 1346 5154 706 1157 153 ...\n",
      " $ Superficie                  : num [1:8110] 19.9 96.4 73.3 27.4 12.9 ...\n",
      " $ Densidad                    : num [1:8110] 138.3 101.4 20.5 62.3 17.5 ...\n",
      " $ PobChange_pct               : num [1:8110] 6.19 2.12 1.4 0.61 8.44 9.2 -1.96 3.54 -5.47 -0.55 ...\n",
      " $ PersonasInmueble            : num [1:8110] 2.14 1.99 2.15 1.58 1.59 2.06 1.58 2.23 1.19 1.77 ...\n",
      " $ Explotaciones               : num [1:8110] 20 215 101 58 12 37 51 247 56 86 ...\n",
      " $ PartidoCCAA                 : Factor w/ 3 levels \"Otro\",\"PP\",\"PSOE\": 1 1 1 1 1 1 1 1 1 1 ...\n",
      " $ UnemploymentPtge            : num [1:8110] 6.89 8.67 1.19 6.79 5.11 4.23 5.13 4.7 3.95 2.53 ...\n",
      " $ WomenUnemploymentPtge       : num [1:8110] 55.4 61.5 42.9 71.7 44.4 ...\n",
      " $ UnemployLess25_Ptge         : num [1:8110] 5.76 7.16 0 3.26 11.11 ...\n",
      " $ UnemployMore40_Ptge         : num [1:8110] 48.2 47.7 64.3 50 44.4 ...\n",
      " $ AgricultureUnemploymentPtge : num [1:8110] 2.88 3.58 0 3.26 0 ...\n",
      " $ IndustryUnemploymentPtge    : num [1:8110] 12.2 12.5 42.9 16.3 0 ...\n",
      " $ ConstructionUnemploymentPtge: num [1:8110] 3.6 5.87 14.29 3.26 0 ...\n",
      " $ ServicesUnemploymentPtge    : num [1:8110] 64.8 62.6 42.9 59.8 100 ...\n",
      " $ AutonomosPtge               : num [1:8110] 10.27 7.84 4.59 8.05 11.36 ...\n",
      " $ varObjCont                  : num [1:8110] 0.1938 0.1363 0.0311 0.1061 0.1532 ...\n"
     ]
    }
   ],
   "source": [
    "# A continuación, verificamos que los tipos de variables se hayan asignado correctamente.\n",
    "str(datos)"
   ]
  },
  {
   "cell_type": "markdown",
   "id": "04138116",
   "metadata": {},
   "source": [
    "## Regresión logística"
   ]
  },
  {
   "cell_type": "code",
   "execution_count": 10,
   "id": "30b1bbac",
   "metadata": {},
   "outputs": [],
   "source": [
    "set.seed(12345)\n",
    "trainIndex <- createDataPartition(datos$varObjBin, p=0.8, list=FALSE)\n",
    "data_train <- datos[trainIndex,]\n",
    "data_test <- datos[-trainIndex,]"
   ]
  },
  {
   "cell_type": "code",
   "execution_count": 37,
   "id": "8a9b80de",
   "metadata": {},
   "outputs": [
    {
     "name": "stderr",
     "output_type": "stream",
     "text": [
      "Warning message:\n",
      "\"glm.fit: fitted probabilities numerically 0 or 1 occurred\"\n"
     ]
    }
   ],
   "source": [
    "modeloInicial <- glm ( varObjBin ~ VotosEmitidos + Abstenciones + Blancos + Nulos + Cs + PP + VOX + Podemos + Otros ,data= data_train[,c(1:12,43)], family=binomial)"
   ]
  },
  {
   "cell_type": "code",
   "execution_count": 38,
   "id": "e03f6e92",
   "metadata": {},
   "outputs": [
    {
     "data": {
      "text/html": [
       "0.7184932894087"
      ],
      "text/latex": [
       "0.7184932894087"
      ],
      "text/markdown": [
       "0.7184932894087"
      ],
      "text/plain": [
       "[1] 0.7184933"
      ]
     },
     "metadata": {},
     "output_type": "display_data"
    }
   ],
   "source": [
    "pseudoR2(modeloInicial,data_train,\"varObjBin\")"
   ]
  },
  {
   "cell_type": "code",
   "execution_count": 39,
   "id": "29e68a36",
   "metadata": {},
   "outputs": [
    {
     "data": {
      "text/html": [
       "0.669837224689467"
      ],
      "text/latex": [
       "0.669837224689467"
      ],
      "text/markdown": [
       "0.669837224689467"
      ],
      "text/plain": [
       "[1] 0.6698372"
      ]
     },
     "metadata": {},
     "output_type": "display_data"
    }
   ],
   "source": [
    "pseudoR2(modeloInicial,data_test,\"varObjBin\")"
   ]
  },
  {
   "cell_type": "code",
   "execution_count": 40,
   "id": "ee8e47dd",
   "metadata": {},
   "outputs": [
    {
     "name": "stderr",
     "output_type": "stream",
     "text": [
      "Warning message:\n",
      "\"glm.fit: algorithm did not converge\"\n",
      "Warning message:\n",
      "\"glm.fit: fitted probabilities numerically 0 or 1 occurred\"\n",
      "Warning message:\n",
      "\"glm.fit: fitted probabilities numerically 0 or 1 occurred\"\n",
      "Warning message:\n",
      "\"glm.fit: algorithm did not converge\"\n",
      "Warning message:\n",
      "\"glm.fit: fitted probabilities numerically 0 or 1 occurred\"\n",
      "Warning message:\n",
      "\"glm.fit: fitted probabilities numerically 0 or 1 occurred\"\n",
      "Warning message:\n",
      "\"glm.fit: algorithm did not converge\"\n",
      "Warning message:\n",
      "\"glm.fit: fitted probabilities numerically 0 or 1 occurred\"\n",
      "Warning message:\n",
      "\"glm.fit: algorithm did not converge\"\n",
      "Warning message:\n",
      "\"glm.fit: fitted probabilities numerically 0 or 1 occurred\"\n",
      "Warning message:\n",
      "\"glm.fit: algorithm did not converge\"\n",
      "Warning message:\n",
      "\"glm.fit: fitted probabilities numerically 0 or 1 occurred\"\n",
      "Warning message:\n",
      "\"glm.fit: fitted probabilities numerically 0 or 1 occurred\"\n",
      "Warning message:\n",
      "\"glm.fit: fitted probabilities numerically 0 or 1 occurred\"\n"
     ]
    },
    {
     "data": {
      "image/png": "[encoded data removed]",
      "text/plain": [
       "Plot with title \"Importancia de las variables (R2)\""
      ]
     },
     "metadata": {
      "image/png": {
       "height": 420,
       "width": 420
      }
     },
     "output_type": "display_data"
    }
   ],
   "source": [
    "importanciaVariablesLog(modeloInicial)\n"
   ]
  },
  {
   "cell_type": "code",
   "execution_count": 68,
   "id": "47ee043d",
   "metadata": {},
   "outputs": [
    {
     "data": {
      "text/html": [
       "43"
      ],
      "text/latex": [
       "43"
      ],
      "text/markdown": [
       "43"
      ],
      "text/plain": [
       "[1] 43"
      ]
     },
     "metadata": {},
     "output_type": "display_data"
    }
   ],
   "source": [
    "ncol(data_train)"
   ]
  },
  {
   "cell_type": "code",
   "execution_count": 52,
   "id": "0d520257",
   "metadata": {},
   "outputs": [
    {
     "data": {
      "text/html": [
       "8110"
      ],
      "text/latex": [
       "8110"
      ],
      "text/markdown": [
       "8110"
      ],
      "text/plain": [
       "[1] 8110"
      ]
     },
     "metadata": {},
     "output_type": "display_data"
    }
   ],
   "source": [
    "length(varObjBin)"
   ]
  },
  {
   "cell_type": "code",
   "execution_count": 53,
   "id": "cbc221cf",
   "metadata": {},
   "outputs": [
    {
     "data": {
      "text/html": [
       "6488"
      ],
      "text/latex": [
       "6488"
      ],
      "text/markdown": [
       "6488"
      ],
      "text/plain": [
       "[1] 6488"
      ]
     },
     "metadata": {},
     "output_type": "display_data"
    }
   ],
   "source": [
    "nrow(data_train)"
   ]
  },
  {
   "cell_type": "markdown",
   "id": "a5dfbb3a",
   "metadata": {},
   "source": [
    "## Regresión lineal"
   ]
  },
  {
   "cell_type": "code",
   "execution_count": 51,
   "id": "01897209",
   "metadata": {},
   "outputs": [],
   "source": [
    "modeloRL <- lm(varObjCont ~ VotosEmitidos + Abstenciones + Blancos + Nulos + Cs + PP + VOX + Podemos+ Otros + PartidoMasVotado, data = data_train[,c(1:12,42)] )\n"
   ]
  },
  {
   "cell_type": "code",
   "execution_count": 49,
   "id": "dfa227e4",
   "metadata": {
    "scrolled": true
   },
   "outputs": [
    {
     "data": {
      "text/html": [
       "<table class=\"dataframe\">\n",
       "<caption>A tibble: 6488 × 43</caption>\n",
       "<thead>\n",
       "\t<tr><th scope=col>CodigoINE</th><th scope=col>VotosEmitidos</th><th scope=col>Abstenciones</th><th scope=col>Blancos</th><th scope=col>Nulos</th><th scope=col>Cs</th><th scope=col>PP</th><th scope=col>PSOE</th><th scope=col>VOX</th><th scope=col>Podemos</th><th scope=col>...</th><th scope=col>WomenUnemploymentPtge</th><th scope=col>UnemployLess25_Ptge</th><th scope=col>UnemployMore40_Ptge</th><th scope=col>AgricultureUnemploymentPtge</th><th scope=col>IndustryUnemploymentPtge</th><th scope=col>ConstructionUnemploymentPtge</th><th scope=col>ServicesUnemploymentPtge</th><th scope=col>AutonomosPtge</th><th scope=col>varObjCont</th><th scope=col>varObjBin</th></tr>\n",
       "\t<tr><th scope=col>&lt;chr&gt;</th><th scope=col>&lt;dbl&gt;</th><th scope=col>&lt;dbl&gt;</th><th scope=col>&lt;dbl&gt;</th><th scope=col>&lt;dbl&gt;</th><th scope=col>&lt;dbl&gt;</th><th scope=col>&lt;dbl&gt;</th><th scope=col>&lt;dbl&gt;</th><th scope=col>&lt;dbl&gt;</th><th scope=col>&lt;dbl&gt;</th><th scope=col>...</th><th scope=col>&lt;dbl&gt;</th><th scope=col>&lt;dbl&gt;</th><th scope=col>&lt;dbl&gt;</th><th scope=col>&lt;dbl&gt;</th><th scope=col>&lt;dbl&gt;</th><th scope=col>&lt;dbl&gt;</th><th scope=col>&lt;dbl&gt;</th><th scope=col>&lt;dbl&gt;</th><th scope=col>&lt;dbl&gt;</th><th scope=col>&lt;dbl&gt;</th></tr>\n",
       "</thead>\n",
       "<tbody>\n",
       "\t<tr><td>01001</td><td>1326</td><td> 690</td><td>25</td><td>15</td><td> 31</td><td> 73</td><td> 257</td><td>39</td><td> 175</td><td>...</td><td>55.40</td><td> 5.76</td><td> 48.20</td><td> 2.88</td><td>12.23</td><td> 3.60</td><td> 64.75</td><td>10.27</td><td>19.381599</td><td>0</td></tr>\n",
       "\t<tr><td>01002</td><td>5753</td><td>2294</td><td>62</td><td>57</td><td> 69</td><td>254</td><td> 784</td><td>83</td><td> 497</td><td>...</td><td>61.46</td><td> 7.16</td><td> 47.71</td><td> 3.58</td><td>12.46</td><td> 5.87</td><td> 62.61</td><td> 7.84</td><td>13.627673</td><td>0</td></tr>\n",
       "\t<tr><td>01003</td><td> 835</td><td> 341</td><td> 4</td><td> 2</td><td>  0</td><td>  1</td><td>  26</td><td> 5</td><td>  50</td><td>...</td><td>42.86</td><td> 0.00</td><td> 64.29</td><td> 0.00</td><td>42.86</td><td>14.29</td><td> 42.86</td><td> 4.59</td><td> 3.113772</td><td>0</td></tr>\n",
       "\t<tr><td>01004</td><td> 999</td><td> 355</td><td>11</td><td>12</td><td> 21</td><td> 83</td><td> 106</td><td> 7</td><td>  90</td><td>...</td><td>71.74</td><td> 3.26</td><td> 50.00</td><td> 3.26</td><td>16.30</td><td> 3.26</td><td> 59.78</td><td> 8.05</td><td>10.610611</td><td>0</td></tr>\n",
       "\t<tr><td>01006</td><td> 124</td><td>  52</td><td> 3</td><td> 2</td><td>  6</td><td> 17</td><td>  19</td><td> 9</td><td>  24</td><td>...</td><td>44.44</td><td>11.11</td><td> 44.44</td><td> 0.00</td><td> 0.00</td><td> 0.00</td><td>100.00</td><td>11.36</td><td>15.322581</td><td>0</td></tr>\n",
       "\t<tr><td>01008</td><td> 531</td><td> 272</td><td> 4</td><td> 2</td><td> 22</td><td> 43</td><td>  75</td><td>12</td><td>  45</td><td>...</td><td>55.88</td><td>17.65</td><td> 67.65</td><td> 2.94</td><td>17.65</td><td> 0.00</td><td> 67.65</td><td>13.45</td><td>14.124294</td><td>0</td></tr>\n",
       "\t<tr><td>01011</td><td> 196</td><td>  32</td><td> 5</td><td> 5</td><td>  7</td><td> 66</td><td>  34</td><td> 3</td><td>   9</td><td>...</td><td>66.67</td><td>44.44</td><td> 44.44</td><td>44.44</td><td>11.11</td><td> 0.00</td><td> 22.22</td><td>35.53</td><td>17.346939</td><td>1</td></tr>\n",
       "\t<tr><td>01013</td><td> 474</td><td> 238</td><td> 1</td><td> 5</td><td>  3</td><td> 23</td><td>  47</td><td> 0</td><td>  40</td><td>...</td><td>44.44</td><td> 5.56</td><td> 61.11</td><td> 0.00</td><td>16.67</td><td>11.11</td><td> 72.22</td><td>17.56</td><td> 9.915612</td><td>0</td></tr>\n",
       "\t<tr><td>01014</td><td> 299</td><td>  72</td><td> 5</td><td> 8</td><td> 16</td><td> 41</td><td>  45</td><td> 7</td><td>  29</td><td>...</td><td>69.23</td><td> 0.00</td><td> 46.15</td><td> 0.00</td><td>30.77</td><td> 0.00</td><td> 53.85</td><td>11.05</td><td>15.050167</td><td>0</td></tr>\n",
       "\t<tr><td>01018</td><td> 909</td><td> 499</td><td>11</td><td> 3</td><td> 11</td><td> 53</td><td> 129</td><td> 9</td><td>  98</td><td>...</td><td>61.22</td><td>10.20</td><td> 44.90</td><td> 0.00</td><td>26.53</td><td> 4.08</td><td> 59.18</td><td>13.49</td><td>14.191419</td><td>0</td></tr>\n",
       "\t<tr><td>01019</td><td> 114</td><td>  35</td><td> 0</td><td> 1</td><td>  2</td><td> 11</td><td>   8</td><td> 0</td><td>   4</td><td>...</td><td>66.67</td><td> 0.00</td><td> 83.33</td><td> 0.00</td><td>33.33</td><td> 0.00</td><td> 66.67</td><td>18.79</td><td> 7.017544</td><td>0</td></tr>\n",
       "\t<tr><td>01023</td><td> 195</td><td>  67</td><td> 3</td><td> 0</td><td>  6</td><td> 35</td><td>  23</td><td> 2</td><td>  15</td><td>...</td><td>76.92</td><td>23.08</td><td> 46.15</td><td>15.38</td><td> 7.69</td><td> 7.69</td><td> 46.15</td><td>32.06</td><td>11.794872</td><td>0</td></tr>\n",
       "\t<tr><td>01027</td><td> 295</td><td> 137</td><td> 1</td><td> 0</td><td>  2</td><td> 23</td><td>  17</td><td> 2</td><td>  26</td><td>...</td><td>60.00</td><td>10.00</td><td> 40.00</td><td> 0.00</td><td>20.00</td><td>10.00</td><td> 60.00</td><td>17.82</td><td> 5.762712</td><td>0</td></tr>\n",
       "\t<tr><td>01028</td><td> 795</td><td> 288</td><td>17</td><td>19</td><td> 13</td><td>180</td><td> 133</td><td>23</td><td>  70</td><td>...</td><td>57.53</td><td> 8.22</td><td> 47.95</td><td>21.92</td><td>13.70</td><td> 6.85</td><td> 43.84</td><td>12.83</td><td>16.729560</td><td>0</td></tr>\n",
       "\t<tr><td>01030</td><td> 120</td><td>  20</td><td> 1</td><td> 0</td><td>  0</td><td> 27</td><td>  21</td><td> 1</td><td>  13</td><td>...</td><td>33.33</td><td> 0.00</td><td> 66.67</td><td> 0.00</td><td> 0.00</td><td>66.67</td><td> 33.33</td><td> 5.71</td><td>17.500000</td><td>0</td></tr>\n",
       "\t<tr><td>01031</td><td> 953</td><td> 216</td><td>28</td><td>48</td><td> 33</td><td>213</td><td> 124</td><td>22</td><td>  49</td><td>...</td><td>58.82</td><td> 3.92</td><td> 39.22</td><td> 3.92</td><td>15.69</td><td> 1.96</td><td> 68.63</td><td>20.44</td><td>13.011542</td><td>0</td></tr>\n",
       "\t<tr><td>01032</td><td> 376</td><td> 123</td><td> 3</td><td>10</td><td>  6</td><td> 53</td><td>  95</td><td> 0</td><td>  30</td><td>...</td><td>81.08</td><td> 0.00</td><td> 35.14</td><td>16.22</td><td> 8.11</td><td> 8.11</td><td> 45.95</td><td>22.24</td><td>25.265957</td><td>0</td></tr>\n",
       "\t<tr><td>01033</td><td> 555</td><td> 104</td><td>16</td><td>11</td><td> 18</td><td> 77</td><td>  99</td><td> 3</td><td>  28</td><td>...</td><td>62.96</td><td> 9.26</td><td> 48.15</td><td>27.78</td><td>12.96</td><td> 1.85</td><td> 37.04</td><td>19.58</td><td>17.837838</td><td>0</td></tr>\n",
       "\t<tr><td>01034</td><td> 117</td><td>  38</td><td> 1</td><td> 0</td><td>  1</td><td>  4</td><td>  27</td><td> 3</td><td>   6</td><td>...</td><td>33.33</td><td> 0.00</td><td>100.00</td><td>50.00</td><td>16.67</td><td> 0.00</td><td> 16.67</td><td>20.65</td><td>23.076923</td><td>0</td></tr>\n",
       "\t<tr><td>01036</td><td>9807</td><td>4941</td><td>74</td><td>72</td><td>198</td><td>551</td><td>1655</td><td>92</td><td>1068</td><td>...</td><td>60.89</td><td> 8.28</td><td> 50.44</td><td> 2.96</td><td>12.80</td><td> 5.05</td><td> 63.50</td><td> 5.28</td><td>16.875701</td><td>0</td></tr>\n",
       "\t<tr><td>01037</td><td> 451</td><td> 137</td><td> 5</td><td> 4</td><td>  2</td><td> 32</td><td>  32</td><td>10</td><td>  38</td><td>...</td><td>43.48</td><td> 4.35</td><td> 47.83</td><td> 0.00</td><td>30.43</td><td>13.04</td><td> 47.83</td><td>13.44</td><td> 7.095344</td><td>0</td></tr>\n",
       "\t<tr><td>01039</td><td> 158</td><td>  38</td><td> 0</td><td> 3</td><td>  5</td><td> 15</td><td>  44</td><td> 0</td><td>  18</td><td>...</td><td>60.00</td><td>20.00</td><td> 70.00</td><td>10.00</td><td>20.00</td><td>10.00</td><td> 30.00</td><td>15.82</td><td>27.848101</td><td>0</td></tr>\n",
       "\t<tr><td>01041</td><td> 122</td><td>  31</td><td> 0</td><td> 3</td><td>  3</td><td> 49</td><td>   6</td><td> 1</td><td>  12</td><td>...</td><td>66.67</td><td>33.33</td><td> 33.33</td><td>33.33</td><td> 0.00</td><td> 0.00</td><td> 33.33</td><td>33.99</td><td> 4.918033</td><td>1</td></tr>\n",
       "\t<tr><td>01043</td><td>1543</td><td> 794</td><td>39</td><td>19</td><td> 76</td><td>212</td><td> 398</td><td>38</td><td> 156</td><td>...</td><td>62.83</td><td>12.17</td><td> 38.16</td><td>17.11</td><td>12.83</td><td> 4.28</td><td> 42.11</td><td> 7.70</td><td>25.793908</td><td>1</td></tr>\n",
       "\t<tr><td>01044</td><td> 176</td><td>  55</td><td> 2</td><td> 9</td><td>  4</td><td> 23</td><td>  30</td><td> 0</td><td>  14</td><td>...</td><td>28.57</td><td> 0.00</td><td> 42.86</td><td> 0.00</td><td>14.29</td><td>14.29</td><td> 71.43</td><td>16.02</td><td>17.045455</td><td>0</td></tr>\n",
       "\t<tr><td>01046</td><td> 465</td><td> 171</td><td> 9</td><td> 1</td><td> 18</td><td> 40</td><td>  66</td><td> 8</td><td>  45</td><td>...</td><td>61.29</td><td> 6.45</td><td> 51.61</td><td> 6.45</td><td> 3.23</td><td> 3.23</td><td> 80.65</td><td>13.36</td><td>14.193548</td><td>0</td></tr>\n",
       "\t<tr><td>01047</td><td> 651</td><td> 337</td><td>16</td><td> 3</td><td> 55</td><td> 98</td><td> 139</td><td>15</td><td>  40</td><td>...</td><td>68.00</td><td>10.00</td><td> 36.00</td><td> 2.00</td><td>12.00</td><td> 8.00</td><td> 54.00</td><td> 8.00</td><td>21.351767</td><td>0</td></tr>\n",
       "\t<tr><td>01049</td><td> 107</td><td>  25</td><td> 1</td><td> 0</td><td>  0</td><td> 13</td><td>   6</td><td> 0</td><td>   8</td><td>...</td><td>25.00</td><td> 0.00</td><td> 75.00</td><td> 0.00</td><td>25.00</td><td> 0.00</td><td> 75.00</td><td> 9.85</td><td> 5.607477</td><td>0</td></tr>\n",
       "\t<tr><td>01052</td><td> 196</td><td>  75</td><td> 1</td><td> 1</td><td>  1</td><td>  4</td><td>  47</td><td> 1</td><td>  14</td><td>...</td><td>16.67</td><td> 0.00</td><td> 33.33</td><td>16.67</td><td>16.67</td><td> 0.00</td><td> 50.00</td><td>22.14</td><td>23.979592</td><td>0</td></tr>\n",
       "\t<tr><td>01054</td><td> 759</td><td> 260</td><td> 8</td><td> 5</td><td>  7</td><td> 21</td><td>  64</td><td> 3</td><td>  76</td><td>...</td><td>56.67</td><td> 8.33</td><td> 38.33</td><td> 8.33</td><td>10.00</td><td> 8.33</td><td> 55.00</td><td>11.48</td><td> 8.432148</td><td>0</td></tr>\n",
       "\t<tr><td>...</td><td>...</td><td>...</td><td>...</td><td>...</td><td>...</td><td>...</td><td>...</td><td>...</td><td>...</td><td></td><td>...</td><td>...</td><td>...</td><td>...</td><td>...</td><td>...</td><td>...</td><td>...</td><td>...</td><td>...</td></tr>\n",
       "\t<tr><td>50261</td><td>   163</td><td>    42</td><td>   0</td><td>   1</td><td>   13</td><td>   25</td><td>    96</td><td>    1</td><td>   26</td><td>...</td><td> 63.64</td><td>18.18</td><td> 45.45</td><td> 9.09</td><td> 0.00</td><td> 9.09</td><td> 72.73</td><td> 6.83</td><td>58.89571</td><td>1</td></tr>\n",
       "\t<tr><td>50262</td><td>   857</td><td>   311</td><td>  17</td><td>   9</td><td>  105</td><td>  123</td><td>   428</td><td>   34</td><td>  125</td><td>...</td><td> 70.59</td><td> 9.80</td><td> 50.98</td><td> 3.92</td><td>11.76</td><td> 3.92</td><td> 76.47</td><td> 8.13</td><td>49.94166</td><td>1</td></tr>\n",
       "\t<tr><td>50263</td><td>   113</td><td>    74</td><td>   3</td><td>   1</td><td>   11</td><td>   15</td><td>    69</td><td>    4</td><td>    5</td><td>...</td><td> 63.64</td><td> 9.09</td><td> 63.64</td><td> 9.09</td><td> 0.00</td><td> 9.09</td><td> 81.82</td><td> 8.56</td><td>61.06195</td><td>1</td></tr>\n",
       "\t<tr><td>50270</td><td>    30</td><td>     7</td><td>   0</td><td>   0</td><td>    3</td><td>    6</td><td>     5</td><td>    0</td><td>    5</td><td>...</td><td>  0.00</td><td> 0.00</td><td>  0.00</td><td> 0.00</td><td> 0.00</td><td> 0.00</td><td>  0.00</td><td> 2.70</td><td>16.66667</td><td>0</td></tr>\n",
       "\t<tr><td>50271</td><td>   212</td><td>    36</td><td>   3</td><td>   4</td><td>   46</td><td>   57</td><td>    75</td><td>   12</td><td>   12</td><td>...</td><td>  0.00</td><td> 0.00</td><td>100.00</td><td> 0.00</td><td> 0.00</td><td> 0.00</td><td>100.00</td><td>21.37</td><td>35.37736</td><td>1</td></tr>\n",
       "\t<tr><td>50272</td><td>  7828</td><td>  5460</td><td> 107</td><td>  64</td><td> 1596</td><td> 1185</td><td>  2700</td><td>  792</td><td>  877</td><td>...</td><td> 69.20</td><td>11.84</td><td> 48.67</td><td> 2.78</td><td>12.92</td><td> 4.11</td><td> 69.44</td><td> 8.17</td><td>34.49157</td><td>1</td></tr>\n",
       "\t<tr><td>50273</td><td>    29</td><td>     5</td><td>   1</td><td>   0</td><td>    1</td><td>   14</td><td>    11</td><td>    1</td><td>    1</td><td>...</td><td>  0.00</td><td> 0.00</td><td>  0.00</td><td> 0.00</td><td> 0.00</td><td> 0.00</td><td>  0.00</td><td> 2.94</td><td>37.93103</td><td>1</td></tr>\n",
       "\t<tr><td>50275</td><td>    65</td><td>    47</td><td>   0</td><td>   0</td><td>    2</td><td>   36</td><td>    18</td><td>    7</td><td>    1</td><td>...</td><td> 50.00</td><td> 0.00</td><td> 50.00</td><td> 0.00</td><td> 0.00</td><td> 0.00</td><td>100.00</td><td> 4.46</td><td>27.69231</td><td>1</td></tr>\n",
       "\t<tr><td>50276</td><td>   101</td><td>    30</td><td>   3</td><td>   0</td><td>   14</td><td>   26</td><td>    43</td><td>    3</td><td>    5</td><td>...</td><td> 66.67</td><td> 0.00</td><td> 66.67</td><td>33.33</td><td> 0.00</td><td> 0.00</td><td> 66.67</td><td>13.74</td><td>42.57426</td><td>1</td></tr>\n",
       "\t<tr><td>50277</td><td>    38</td><td>    11</td><td>   0</td><td>   0</td><td>    1</td><td>   14</td><td>     6</td><td>    3</td><td>    2</td><td>...</td><td> 66.67</td><td> 0.00</td><td>100.00</td><td> 0.00</td><td> 0.00</td><td> 0.00</td><td>100.00</td><td> 2.04</td><td>15.78947</td><td>1</td></tr>\n",
       "\t<tr><td>50278</td><td>   134</td><td>    45</td><td>   3</td><td>   2</td><td>   10</td><td>   50</td><td>    38</td><td>   19</td><td>    7</td><td>...</td><td>100.00</td><td> 0.00</td><td> 57.14</td><td> 0.00</td><td> 0.00</td><td>14.29</td><td> 85.71</td><td>15.08</td><td>28.35821</td><td>1</td></tr>\n",
       "\t<tr><td>50280</td><td>   264</td><td>    36</td><td>   3</td><td>   3</td><td>   52</td><td>   70</td><td>   106</td><td>    6</td><td>   14</td><td>...</td><td> 25.00</td><td> 0.00</td><td> 50.00</td><td>25.00</td><td>50.00</td><td> 0.00</td><td> 25.00</td><td>13.00</td><td>40.15152</td><td>1</td></tr>\n",
       "\t<tr><td>50281</td><td>    61</td><td>     7</td><td>   0</td><td>   1</td><td>   13</td><td>   31</td><td>    11</td><td>    0</td><td>    3</td><td>...</td><td> 75.00</td><td>25.00</td><td> 75.00</td><td> 0.00</td><td>25.00</td><td> 0.00</td><td> 50.00</td><td> 2.94</td><td>18.03279</td><td>1</td></tr>\n",
       "\t<tr><td>50282</td><td>    36</td><td>    30</td><td>   3</td><td>   0</td><td>    0</td><td>   20</td><td>    10</td><td>    0</td><td>    1</td><td>...</td><td>  0.00</td><td> 0.00</td><td>  0.00</td><td> 0.00</td><td> 0.00</td><td> 0.00</td><td>  0.00</td><td> 6.06</td><td>27.77778</td><td>1</td></tr>\n",
       "\t<tr><td>50283</td><td>    56</td><td>    17</td><td>   2</td><td>   0</td><td>   12</td><td>   16</td><td>    18</td><td>    4</td><td>    0</td><td>...</td><td>100.00</td><td>20.00</td><td> 20.00</td><td>40.00</td><td>20.00</td><td> 0.00</td><td> 40.00</td><td> 6.85</td><td>32.14286</td><td>1</td></tr>\n",
       "\t<tr><td>50284</td><td>   108</td><td>    38</td><td>   0</td><td>   2</td><td>    4</td><td>   18</td><td>    67</td><td>    3</td><td>   13</td><td>...</td><td> 50.00</td><td> 0.00</td><td>100.00</td><td> 0.00</td><td> 0.00</td><td> 0.00</td><td>100.00</td><td> 9.59</td><td>62.03704</td><td>1</td></tr>\n",
       "\t<tr><td>50285</td><td>   445</td><td>   206</td><td>   7</td><td>   3</td><td>   86</td><td>  117</td><td>   139</td><td>   43</td><td>   22</td><td>...</td><td> 71.43</td><td> 8.57</td><td> 54.29</td><td> 2.86</td><td>17.14</td><td> 0.00</td><td> 74.29</td><td> 9.37</td><td>31.23596</td><td>1</td></tr>\n",
       "\t<tr><td>50286</td><td>    61</td><td>    17</td><td>   0</td><td>   0</td><td>    4</td><td>   16</td><td>    30</td><td>    3</td><td>    4</td><td>...</td><td> 50.00</td><td> 0.00</td><td>100.00</td><td> 0.00</td><td> 0.00</td><td>25.00</td><td> 75.00</td><td> 5.13</td><td>49.18033</td><td>1</td></tr>\n",
       "\t<tr><td>50287</td><td>   189</td><td>    69</td><td>  11</td><td>   2</td><td>   30</td><td>   36</td><td>    82</td><td>    7</td><td>   16</td><td>...</td><td> 25.00</td><td> 0.00</td><td> 50.00</td><td>37.50</td><td> 0.00</td><td> 0.00</td><td> 50.00</td><td>18.22</td><td>43.38624</td><td>1</td></tr>\n",
       "\t<tr><td>50288</td><td>  2348</td><td>  1124</td><td>  36</td><td>  13</td><td>  563</td><td>  468</td><td>   679</td><td>  283</td><td>  182</td><td>...</td><td> 64.04</td><td> 7.30</td><td> 62.36</td><td> 2.81</td><td>15.17</td><td> 3.93</td><td> 73.03</td><td>16.47</td><td>28.91823</td><td>1</td></tr>\n",
       "\t<tr><td>50289</td><td>    48</td><td>     7</td><td>   2</td><td>   0</td><td>    5</td><td>   14</td><td>    14</td><td>    1</td><td>    3</td><td>...</td><td>  0.00</td><td> 0.00</td><td>  0.00</td><td> 0.00</td><td> 0.00</td><td> 0.00</td><td>  0.00</td><td> 0.00</td><td>29.16667</td><td>1</td></tr>\n",
       "\t<tr><td>50290</td><td>   277</td><td>    91</td><td>  11</td><td>   0</td><td>   33</td><td>   67</td><td>   118</td><td>   25</td><td>   15</td><td>...</td><td> 42.11</td><td> 5.26</td><td> 84.21</td><td>31.58</td><td> 5.26</td><td>21.05</td><td> 36.84</td><td>12.50</td><td>42.59928</td><td>1</td></tr>\n",
       "\t<tr><td>50291</td><td>    80</td><td>    17</td><td>   0</td><td>   1</td><td>   14</td><td>   30</td><td>    24</td><td>    8</td><td>    2</td><td>...</td><td>100.00</td><td> 0.00</td><td>  0.00</td><td> 0.00</td><td> 0.00</td><td> 0.00</td><td>100.00</td><td>11.34</td><td>30.00000</td><td>1</td></tr>\n",
       "\t<tr><td>50292</td><td>   132</td><td>    11</td><td>   3</td><td>   0</td><td>   11</td><td>   37</td><td>    47</td><td>   26</td><td>    3</td><td>...</td><td> 57.14</td><td> 0.00</td><td> 57.14</td><td>42.86</td><td> 0.00</td><td>14.29</td><td> 42.86</td><td>18.18</td><td>35.60606</td><td>1</td></tr>\n",
       "\t<tr><td>50294</td><td>    45</td><td>    19</td><td>   0</td><td>   0</td><td>    9</td><td>   22</td><td>    13</td><td>    0</td><td>    1</td><td>...</td><td>  0.00</td><td> 0.00</td><td>  0.00</td><td> 0.00</td><td> 0.00</td><td> 0.00</td><td>  0.00</td><td> 6.25</td><td>28.88889</td><td>1</td></tr>\n",
       "\t<tr><td>50297</td><td>330675</td><td>173803</td><td>2708</td><td>1326</td><td>64433</td><td>64756</td><td>111529</td><td>28535</td><td>39631</td><td>...</td><td> 60.67</td><td> 9.24</td><td> 51.33</td><td> 2.17</td><td>10.04</td><td> 6.49</td><td> 71.08</td><td> 7.86</td><td>33.72768</td><td>1</td></tr>\n",
       "\t<tr><td>50901</td><td>   102</td><td>    38</td><td>   1</td><td>   0</td><td>   14</td><td>   17</td><td>    39</td><td>   17</td><td>   10</td><td>...</td><td>100.00</td><td>50.00</td><td>  0.00</td><td>50.00</td><td> 0.00</td><td> 0.00</td><td> 50.00</td><td> 8.57</td><td>38.23529</td><td>1</td></tr>\n",
       "\t<tr><td>50902</td><td>    66</td><td>    13</td><td>   3</td><td>   1</td><td>    9</td><td>   29</td><td>    14</td><td>    4</td><td>    3</td><td>...</td><td>100.00</td><td> 0.00</td><td> 50.00</td><td> 0.00</td><td> 0.00</td><td> 0.00</td><td>100.00</td><td> 8.86</td><td>21.21212</td><td>1</td></tr>\n",
       "\t<tr><td>50903</td><td>  1668</td><td>   591</td><td>  28</td><td>  12</td><td>  248</td><td>  345</td><td>   463</td><td>  111</td><td>  197</td><td>...</td><td> 57.78</td><td>15.56</td><td> 51.11</td><td> 1.11</td><td>15.56</td><td> 5.56</td><td> 65.56</td><td> 9.56</td><td>27.75779</td><td>1</td></tr>\n",
       "\t<tr><td>51001</td><td> 33103</td><td> 26802</td><td> 251</td><td> 317</td><td> 2527</td><td> 8930</td><td> 11008</td><td> 6748</td><td> 1108</td><td>...</td><td> 60.47</td><td>13.40</td><td> 39.01</td><td> 0.56</td><td> 4.05</td><td> 4.10</td><td> 72.26</td><td> 5.64</td><td>33.25378</td><td>1</td></tr>\n",
       "</tbody>\n",
       "</table>\n"
      ],
      "text/latex": [
       "A tibble: 6488 × 43\n",
       "\\begin{tabular}{lllllllllllllllllllll}\n",
       " CodigoINE & VotosEmitidos & Abstenciones & Blancos & Nulos & Cs & PP & PSOE & VOX & Podemos & ... & WomenUnemploymentPtge & UnemployLess25\\_Ptge & UnemployMore40\\_Ptge & AgricultureUnemploymentPtge & IndustryUnemploymentPtge & ConstructionUnemploymentPtge & ServicesUnemploymentPtge & AutonomosPtge & varObjCont & varObjBin\\\\\n",
       " <chr> & <dbl> & <dbl> & <dbl> & <dbl> & <dbl> & <dbl> & <dbl> & <dbl> & <dbl> & ... & <dbl> & <dbl> & <dbl> & <dbl> & <dbl> & <dbl> & <dbl> & <dbl> & <dbl> & <dbl>\\\\\n",
       "\\hline\n",
       "\t 01001 & 1326 &  690 & 25 & 15 &  31 &  73 &  257 & 39 &  175 & ... & 55.40 &  5.76 &  48.20 &  2.88 & 12.23 &  3.60 &  64.75 & 10.27 & 19.381599 & 0\\\\\n",
       "\t 01002 & 5753 & 2294 & 62 & 57 &  69 & 254 &  784 & 83 &  497 & ... & 61.46 &  7.16 &  47.71 &  3.58 & 12.46 &  5.87 &  62.61 &  7.84 & 13.627673 & 0\\\\\n",
       "\t 01003 &  835 &  341 &  4 &  2 &   0 &   1 &   26 &  5 &   50 & ... & 42.86 &  0.00 &  64.29 &  0.00 & 42.86 & 14.29 &  42.86 &  4.59 &  3.113772 & 0\\\\\n",
       "\t 01004 &  999 &  355 & 11 & 12 &  21 &  83 &  106 &  7 &   90 & ... & 71.74 &  3.26 &  50.00 &  3.26 & 16.30 &  3.26 &  59.78 &  8.05 & 10.610611 & 0\\\\\n",
       "\t 01006 &  124 &   52 &  3 &  2 &   6 &  17 &   19 &  9 &   24 & ... & 44.44 & 11.11 &  44.44 &  0.00 &  0.00 &  0.00 & 100.00 & 11.36 & 15.322581 & 0\\\\\n",
       "\t 01008 &  531 &  272 &  4 &  2 &  22 &  43 &   75 & 12 &   45 & ... & 55.88 & 17.65 &  67.65 &  2.94 & 17.65 &  0.00 &  67.65 & 13.45 & 14.124294 & 0\\\\\n",
       "\t 01011 &  196 &   32 &  5 &  5 &   7 &  66 &   34 &  3 &    9 & ... & 66.67 & 44.44 &  44.44 & 44.44 & 11.11 &  0.00 &  22.22 & 35.53 & 17.346939 & 1\\\\\n",
       "\t 01013 &  474 &  238 &  1 &  5 &   3 &  23 &   47 &  0 &   40 & ... & 44.44 &  5.56 &  61.11 &  0.00 & 16.67 & 11.11 &  72.22 & 17.56 &  9.915612 & 0\\\\\n",
       "\t 01014 &  299 &   72 &  5 &  8 &  16 &  41 &   45 &  7 &   29 & ... & 69.23 &  0.00 &  46.15 &  0.00 & 30.77 &  0.00 &  53.85 & 11.05 & 15.050167 & 0\\\\\n",
       "\t 01018 &  909 &  499 & 11 &  3 &  11 &  53 &  129 &  9 &   98 & ... & 61.22 & 10.20 &  44.90 &  0.00 & 26.53 &  4.08 &  59.18 & 13.49 & 14.191419 & 0\\\\\n",
       "\t 01019 &  114 &   35 &  0 &  1 &   2 &  11 &    8 &  0 &    4 & ... & 66.67 &  0.00 &  83.33 &  0.00 & 33.33 &  0.00 &  66.67 & 18.79 &  7.017544 & 0\\\\\n",
       "\t 01023 &  195 &   67 &  3 &  0 &   6 &  35 &   23 &  2 &   15 & ... & 76.92 & 23.08 &  46.15 & 15.38 &  7.69 &  7.69 &  46.15 & 32.06 & 11.794872 & 0\\\\\n",
       "\t 01027 &  295 &  137 &  1 &  0 &   2 &  23 &   17 &  2 &   26 & ... & 60.00 & 10.00 &  40.00 &  0.00 & 20.00 & 10.00 &  60.00 & 17.82 &  5.762712 & 0\\\\\n",
       "\t 01028 &  795 &  288 & 17 & 19 &  13 & 180 &  133 & 23 &   70 & ... & 57.53 &  8.22 &  47.95 & 21.92 & 13.70 &  6.85 &  43.84 & 12.83 & 16.729560 & 0\\\\\n",
       "\t 01030 &  120 &   20 &  1 &  0 &   0 &  27 &   21 &  1 &   13 & ... & 33.33 &  0.00 &  66.67 &  0.00 &  0.00 & 66.67 &  33.33 &  5.71 & 17.500000 & 0\\\\\n",
       "\t 01031 &  953 &  216 & 28 & 48 &  33 & 213 &  124 & 22 &   49 & ... & 58.82 &  3.92 &  39.22 &  3.92 & 15.69 &  1.96 &  68.63 & 20.44 & 13.011542 & 0\\\\\n",
       "\t 01032 &  376 &  123 &  3 & 10 &   6 &  53 &   95 &  0 &   30 & ... & 81.08 &  0.00 &  35.14 & 16.22 &  8.11 &  8.11 &  45.95 & 22.24 & 25.265957 & 0\\\\\n",
       "\t 01033 &  555 &  104 & 16 & 11 &  18 &  77 &   99 &  3 &   28 & ... & 62.96 &  9.26 &  48.15 & 27.78 & 12.96 &  1.85 &  37.04 & 19.58 & 17.837838 & 0\\\\\n",
       "\t 01034 &  117 &   38 &  1 &  0 &   1 &   4 &   27 &  3 &    6 & ... & 33.33 &  0.00 & 100.00 & 50.00 & 16.67 &  0.00 &  16.67 & 20.65 & 23.076923 & 0\\\\\n",
       "\t 01036 & 9807 & 4941 & 74 & 72 & 198 & 551 & 1655 & 92 & 1068 & ... & 60.89 &  8.28 &  50.44 &  2.96 & 12.80 &  5.05 &  63.50 &  5.28 & 16.875701 & 0\\\\\n",
       "\t 01037 &  451 &  137 &  5 &  4 &   2 &  32 &   32 & 10 &   38 & ... & 43.48 &  4.35 &  47.83 &  0.00 & 30.43 & 13.04 &  47.83 & 13.44 &  7.095344 & 0\\\\\n",
       "\t 01039 &  158 &   38 &  0 &  3 &   5 &  15 &   44 &  0 &   18 & ... & 60.00 & 20.00 &  70.00 & 10.00 & 20.00 & 10.00 &  30.00 & 15.82 & 27.848101 & 0\\\\\n",
       "\t 01041 &  122 &   31 &  0 &  3 &   3 &  49 &    6 &  1 &   12 & ... & 66.67 & 33.33 &  33.33 & 33.33 &  0.00 &  0.00 &  33.33 & 33.99 &  4.918033 & 1\\\\\n",
       "\t 01043 & 1543 &  794 & 39 & 19 &  76 & 212 &  398 & 38 &  156 & ... & 62.83 & 12.17 &  38.16 & 17.11 & 12.83 &  4.28 &  42.11 &  7.70 & 25.793908 & 1\\\\\n",
       "\t 01044 &  176 &   55 &  2 &  9 &   4 &  23 &   30 &  0 &   14 & ... & 28.57 &  0.00 &  42.86 &  0.00 & 14.29 & 14.29 &  71.43 & 16.02 & 17.045455 & 0\\\\\n",
       "\t 01046 &  465 &  171 &  9 &  1 &  18 &  40 &   66 &  8 &   45 & ... & 61.29 &  6.45 &  51.61 &  6.45 &  3.23 &  3.23 &  80.65 & 13.36 & 14.193548 & 0\\\\\n",
       "\t 01047 &  651 &  337 & 16 &  3 &  55 &  98 &  139 & 15 &   40 & ... & 68.00 & 10.00 &  36.00 &  2.00 & 12.00 &  8.00 &  54.00 &  8.00 & 21.351767 & 0\\\\\n",
       "\t 01049 &  107 &   25 &  1 &  0 &   0 &  13 &    6 &  0 &    8 & ... & 25.00 &  0.00 &  75.00 &  0.00 & 25.00 &  0.00 &  75.00 &  9.85 &  5.607477 & 0\\\\\n",
       "\t 01052 &  196 &   75 &  1 &  1 &   1 &   4 &   47 &  1 &   14 & ... & 16.67 &  0.00 &  33.33 & 16.67 & 16.67 &  0.00 &  50.00 & 22.14 & 23.979592 & 0\\\\\n",
       "\t 01054 &  759 &  260 &  8 &  5 &   7 &  21 &   64 &  3 &   76 & ... & 56.67 &  8.33 &  38.33 &  8.33 & 10.00 &  8.33 &  55.00 & 11.48 &  8.432148 & 0\\\\\n",
       "\t ... & ... & ... & ... & ... & ... & ... & ... & ... & ... &  & ... & ... & ... & ... & ... & ... & ... & ... & ... & ...\\\\\n",
       "\t 50261 &    163 &     42 &    0 &    1 &    13 &    25 &     96 &     1 &    26 & ... &  63.64 & 18.18 &  45.45 &  9.09 &  0.00 &  9.09 &  72.73 &  6.83 & 58.89571 & 1\\\\\n",
       "\t 50262 &    857 &    311 &   17 &    9 &   105 &   123 &    428 &    34 &   125 & ... &  70.59 &  9.80 &  50.98 &  3.92 & 11.76 &  3.92 &  76.47 &  8.13 & 49.94166 & 1\\\\\n",
       "\t 50263 &    113 &     74 &    3 &    1 &    11 &    15 &     69 &     4 &     5 & ... &  63.64 &  9.09 &  63.64 &  9.09 &  0.00 &  9.09 &  81.82 &  8.56 & 61.06195 & 1\\\\\n",
       "\t 50270 &     30 &      7 &    0 &    0 &     3 &     6 &      5 &     0 &     5 & ... &   0.00 &  0.00 &   0.00 &  0.00 &  0.00 &  0.00 &   0.00 &  2.70 & 16.66667 & 0\\\\\n",
       "\t 50271 &    212 &     36 &    3 &    4 &    46 &    57 &     75 &    12 &    12 & ... &   0.00 &  0.00 & 100.00 &  0.00 &  0.00 &  0.00 & 100.00 & 21.37 & 35.37736 & 1\\\\\n",
       "\t 50272 &   7828 &   5460 &  107 &   64 &  1596 &  1185 &   2700 &   792 &   877 & ... &  69.20 & 11.84 &  48.67 &  2.78 & 12.92 &  4.11 &  69.44 &  8.17 & 34.49157 & 1\\\\\n",
       "\t 50273 &     29 &      5 &    1 &    0 &     1 &    14 &     11 &     1 &     1 & ... &   0.00 &  0.00 &   0.00 &  0.00 &  0.00 &  0.00 &   0.00 &  2.94 & 37.93103 & 1\\\\\n",
       "\t 50275 &     65 &     47 &    0 &    0 &     2 &    36 &     18 &     7 &     1 & ... &  50.00 &  0.00 &  50.00 &  0.00 &  0.00 &  0.00 & 100.00 &  4.46 & 27.69231 & 1\\\\\n",
       "\t 50276 &    101 &     30 &    3 &    0 &    14 &    26 &     43 &     3 &     5 & ... &  66.67 &  0.00 &  66.67 & 33.33 &  0.00 &  0.00 &  66.67 & 13.74 & 42.57426 & 1\\\\\n",
       "\t 50277 &     38 &     11 &    0 &    0 &     1 &    14 &      6 &     3 &     2 & ... &  66.67 &  0.00 & 100.00 &  0.00 &  0.00 &  0.00 & 100.00 &  2.04 & 15.78947 & 1\\\\\n",
       "\t 50278 &    134 &     45 &    3 &    2 &    10 &    50 &     38 &    19 &     7 & ... & 100.00 &  0.00 &  57.14 &  0.00 &  0.00 & 14.29 &  85.71 & 15.08 & 28.35821 & 1\\\\\n",
       "\t 50280 &    264 &     36 &    3 &    3 &    52 &    70 &    106 &     6 &    14 & ... &  25.00 &  0.00 &  50.00 & 25.00 & 50.00 &  0.00 &  25.00 & 13.00 & 40.15152 & 1\\\\\n",
       "\t 50281 &     61 &      7 &    0 &    1 &    13 &    31 &     11 &     0 &     3 & ... &  75.00 & 25.00 &  75.00 &  0.00 & 25.00 &  0.00 &  50.00 &  2.94 & 18.03279 & 1\\\\\n",
       "\t 50282 &     36 &     30 &    3 &    0 &     0 &    20 &     10 &     0 &     1 & ... &   0.00 &  0.00 &   0.00 &  0.00 &  0.00 &  0.00 &   0.00 &  6.06 & 27.77778 & 1\\\\\n",
       "\t 50283 &     56 &     17 &    2 &    0 &    12 &    16 &     18 &     4 &     0 & ... & 100.00 & 20.00 &  20.00 & 40.00 & 20.00 &  0.00 &  40.00 &  6.85 & 32.14286 & 1\\\\\n",
       "\t 50284 &    108 &     38 &    0 &    2 &     4 &    18 &     67 &     3 &    13 & ... &  50.00 &  0.00 & 100.00 &  0.00 &  0.00 &  0.00 & 100.00 &  9.59 & 62.03704 & 1\\\\\n",
       "\t 50285 &    445 &    206 &    7 &    3 &    86 &   117 &    139 &    43 &    22 & ... &  71.43 &  8.57 &  54.29 &  2.86 & 17.14 &  0.00 &  74.29 &  9.37 & 31.23596 & 1\\\\\n",
       "\t 50286 &     61 &     17 &    0 &    0 &     4 &    16 &     30 &     3 &     4 & ... &  50.00 &  0.00 & 100.00 &  0.00 &  0.00 & 25.00 &  75.00 &  5.13 & 49.18033 & 1\\\\\n",
       "\t 50287 &    189 &     69 &   11 &    2 &    30 &    36 &     82 &     7 &    16 & ... &  25.00 &  0.00 &  50.00 & 37.50 &  0.00 &  0.00 &  50.00 & 18.22 & 43.38624 & 1\\\\\n",
       "\t 50288 &   2348 &   1124 &   36 &   13 &   563 &   468 &    679 &   283 &   182 & ... &  64.04 &  7.30 &  62.36 &  2.81 & 15.17 &  3.93 &  73.03 & 16.47 & 28.91823 & 1\\\\\n",
       "\t 50289 &     48 &      7 &    2 &    0 &     5 &    14 &     14 &     1 &     3 & ... &   0.00 &  0.00 &   0.00 &  0.00 &  0.00 &  0.00 &   0.00 &  0.00 & 29.16667 & 1\\\\\n",
       "\t 50290 &    277 &     91 &   11 &    0 &    33 &    67 &    118 &    25 &    15 & ... &  42.11 &  5.26 &  84.21 & 31.58 &  5.26 & 21.05 &  36.84 & 12.50 & 42.59928 & 1\\\\\n",
       "\t 50291 &     80 &     17 &    0 &    1 &    14 &    30 &     24 &     8 &     2 & ... & 100.00 &  0.00 &   0.00 &  0.00 &  0.00 &  0.00 & 100.00 & 11.34 & 30.00000 & 1\\\\\n",
       "\t 50292 &    132 &     11 &    3 &    0 &    11 &    37 &     47 &    26 &     3 & ... &  57.14 &  0.00 &  57.14 & 42.86 &  0.00 & 14.29 &  42.86 & 18.18 & 35.60606 & 1\\\\\n",
       "\t 50294 &     45 &     19 &    0 &    0 &     9 &    22 &     13 &     0 &     1 & ... &   0.00 &  0.00 &   0.00 &  0.00 &  0.00 &  0.00 &   0.00 &  6.25 & 28.88889 & 1\\\\\n",
       "\t 50297 & 330675 & 173803 & 2708 & 1326 & 64433 & 64756 & 111529 & 28535 & 39631 & ... &  60.67 &  9.24 &  51.33 &  2.17 & 10.04 &  6.49 &  71.08 &  7.86 & 33.72768 & 1\\\\\n",
       "\t 50901 &    102 &     38 &    1 &    0 &    14 &    17 &     39 &    17 &    10 & ... & 100.00 & 50.00 &   0.00 & 50.00 &  0.00 &  0.00 &  50.00 &  8.57 & 38.23529 & 1\\\\\n",
       "\t 50902 &     66 &     13 &    3 &    1 &     9 &    29 &     14 &     4 &     3 & ... & 100.00 &  0.00 &  50.00 &  0.00 &  0.00 &  0.00 & 100.00 &  8.86 & 21.21212 & 1\\\\\n",
       "\t 50903 &   1668 &    591 &   28 &   12 &   248 &   345 &    463 &   111 &   197 & ... &  57.78 & 15.56 &  51.11 &  1.11 & 15.56 &  5.56 &  65.56 &  9.56 & 27.75779 & 1\\\\\n",
       "\t 51001 &  33103 &  26802 &  251 &  317 &  2527 &  8930 &  11008 &  6748 &  1108 & ... &  60.47 & 13.40 &  39.01 &  0.56 &  4.05 &  4.10 &  72.26 &  5.64 & 33.25378 & 1\\\\\n",
       "\\end{tabular}\n"
      ],
      "text/markdown": [
       "\n",
       "A tibble: 6488 × 43\n",
       "\n",
       "| CodigoINE &lt;chr&gt; | VotosEmitidos &lt;dbl&gt; | Abstenciones &lt;dbl&gt; | Blancos &lt;dbl&gt; | Nulos &lt;dbl&gt; | Cs &lt;dbl&gt; | PP &lt;dbl&gt; | PSOE &lt;dbl&gt; | VOX &lt;dbl&gt; | Podemos &lt;dbl&gt; | ... ... | WomenUnemploymentPtge &lt;dbl&gt; | UnemployLess25_Ptge &lt;dbl&gt; | UnemployMore40_Ptge &lt;dbl&gt; | AgricultureUnemploymentPtge &lt;dbl&gt; | IndustryUnemploymentPtge &lt;dbl&gt; | ConstructionUnemploymentPtge &lt;dbl&gt; | ServicesUnemploymentPtge &lt;dbl&gt; | AutonomosPtge &lt;dbl&gt; | varObjCont &lt;dbl&gt; | varObjBin &lt;dbl&gt; |\n",
       "|---|---|---|---|---|---|---|---|---|---|---|---|---|---|---|---|---|---|---|---|---|\n",
       "| 01001 | 1326 |  690 | 25 | 15 |  31 |  73 |  257 | 39 |  175 | ... | 55.40 |  5.76 |  48.20 |  2.88 | 12.23 |  3.60 |  64.75 | 10.27 | 19.381599 | 0 |\n",
       "| 01002 | 5753 | 2294 | 62 | 57 |  69 | 254 |  784 | 83 |  497 | ... | 61.46 |  7.16 |  47.71 |  3.58 | 12.46 |  5.87 |  62.61 |  7.84 | 13.627673 | 0 |\n",
       "| 01003 |  835 |  341 |  4 |  2 |   0 |   1 |   26 |  5 |   50 | ... | 42.86 |  0.00 |  64.29 |  0.00 | 42.86 | 14.29 |  42.86 |  4.59 |  3.113772 | 0 |\n",
       "| 01004 |  999 |  355 | 11 | 12 |  21 |  83 |  106 |  7 |   90 | ... | 71.74 |  3.26 |  50.00 |  3.26 | 16.30 |  3.26 |  59.78 |  8.05 | 10.610611 | 0 |\n",
       "| 01006 |  124 |   52 |  3 |  2 |   6 |  17 |   19 |  9 |   24 | ... | 44.44 | 11.11 |  44.44 |  0.00 |  0.00 |  0.00 | 100.00 | 11.36 | 15.322581 | 0 |\n",
       "| 01008 |  531 |  272 |  4 |  2 |  22 |  43 |   75 | 12 |   45 | ... | 55.88 | 17.65 |  67.65 |  2.94 | 17.65 |  0.00 |  67.65 | 13.45 | 14.124294 | 0 |\n",
       "| 01011 |  196 |   32 |  5 |  5 |   7 |  66 |   34 |  3 |    9 | ... | 66.67 | 44.44 |  44.44 | 44.44 | 11.11 |  0.00 |  22.22 | 35.53 | 17.346939 | 1 |\n",
       "| 01013 |  474 |  238 |  1 |  5 |   3 |  23 |   47 |  0 |   40 | ... | 44.44 |  5.56 |  61.11 |  0.00 | 16.67 | 11.11 |  72.22 | 17.56 |  9.915612 | 0 |\n",
       "| 01014 |  299 |   72 |  5 |  8 |  16 |  41 |   45 |  7 |   29 | ... | 69.23 |  0.00 |  46.15 |  0.00 | 30.77 |  0.00 |  53.85 | 11.05 | 15.050167 | 0 |\n",
       "| 01018 |  909 |  499 | 11 |  3 |  11 |  53 |  129 |  9 |   98 | ... | 61.22 | 10.20 |  44.90 |  0.00 | 26.53 |  4.08 |  59.18 | 13.49 | 14.191419 | 0 |\n",
       "| 01019 |  114 |   35 |  0 |  1 |   2 |  11 |    8 |  0 |    4 | ... | 66.67 |  0.00 |  83.33 |  0.00 | 33.33 |  0.00 |  66.67 | 18.79 |  7.017544 | 0 |\n",
       "| 01023 |  195 |   67 |  3 |  0 |   6 |  35 |   23 |  2 |   15 | ... | 76.92 | 23.08 |  46.15 | 15.38 |  7.69 |  7.69 |  46.15 | 32.06 | 11.794872 | 0 |\n",
       "| 01027 |  295 |  137 |  1 |  0 |   2 |  23 |   17 |  2 |   26 | ... | 60.00 | 10.00 |  40.00 |  0.00 | 20.00 | 10.00 |  60.00 | 17.82 |  5.762712 | 0 |\n",
       "| 01028 |  795 |  288 | 17 | 19 |  13 | 180 |  133 | 23 |   70 | ... | 57.53 |  8.22 |  47.95 | 21.92 | 13.70 |  6.85 |  43.84 | 12.83 | 16.729560 | 0 |\n",
       "| 01030 |  120 |   20 |  1 |  0 |   0 |  27 |   21 |  1 |   13 | ... | 33.33 |  0.00 |  66.67 |  0.00 |  0.00 | 66.67 |  33.33 |  5.71 | 17.500000 | 0 |\n",
       "| 01031 |  953 |  216 | 28 | 48 |  33 | 213 |  124 | 22 |   49 | ... | 58.82 |  3.92 |  39.22 |  3.92 | 15.69 |  1.96 |  68.63 | 20.44 | 13.011542 | 0 |\n",
       "| 01032 |  376 |  123 |  3 | 10 |   6 |  53 |   95 |  0 |   30 | ... | 81.08 |  0.00 |  35.14 | 16.22 |  8.11 |  8.11 |  45.95 | 22.24 | 25.265957 | 0 |\n",
       "| 01033 |  555 |  104 | 16 | 11 |  18 |  77 |   99 |  3 |   28 | ... | 62.96 |  9.26 |  48.15 | 27.78 | 12.96 |  1.85 |  37.04 | 19.58 | 17.837838 | 0 |\n",
       "| 01034 |  117 |   38 |  1 |  0 |   1 |   4 |   27 |  3 |    6 | ... | 33.33 |  0.00 | 100.00 | 50.00 | 16.67 |  0.00 |  16.67 | 20.65 | 23.076923 | 0 |\n",
       "| 01036 | 9807 | 4941 | 74 | 72 | 198 | 551 | 1655 | 92 | 1068 | ... | 60.89 |  8.28 |  50.44 |  2.96 | 12.80 |  5.05 |  63.50 |  5.28 | 16.875701 | 0 |\n",
       "| 01037 |  451 |  137 |  5 |  4 |   2 |  32 |   32 | 10 |   38 | ... | 43.48 |  4.35 |  47.83 |  0.00 | 30.43 | 13.04 |  47.83 | 13.44 |  7.095344 | 0 |\n",
       "| 01039 |  158 |   38 |  0 |  3 |   5 |  15 |   44 |  0 |   18 | ... | 60.00 | 20.00 |  70.00 | 10.00 | 20.00 | 10.00 |  30.00 | 15.82 | 27.848101 | 0 |\n",
       "| 01041 |  122 |   31 |  0 |  3 |   3 |  49 |    6 |  1 |   12 | ... | 66.67 | 33.33 |  33.33 | 33.33 |  0.00 |  0.00 |  33.33 | 33.99 |  4.918033 | 1 |\n",
       "| 01043 | 1543 |  794 | 39 | 19 |  76 | 212 |  398 | 38 |  156 | ... | 62.83 | 12.17 |  38.16 | 17.11 | 12.83 |  4.28 |  42.11 |  7.70 | 25.793908 | 1 |\n",
       "| 01044 |  176 |   55 |  2 |  9 |   4 |  23 |   30 |  0 |   14 | ... | 28.57 |  0.00 |  42.86 |  0.00 | 14.29 | 14.29 |  71.43 | 16.02 | 17.045455 | 0 |\n",
       "| 01046 |  465 |  171 |  9 |  1 |  18 |  40 |   66 |  8 |   45 | ... | 61.29 |  6.45 |  51.61 |  6.45 |  3.23 |  3.23 |  80.65 | 13.36 | 14.193548 | 0 |\n",
       "| 01047 |  651 |  337 | 16 |  3 |  55 |  98 |  139 | 15 |   40 | ... | 68.00 | 10.00 |  36.00 |  2.00 | 12.00 |  8.00 |  54.00 |  8.00 | 21.351767 | 0 |\n",
       "| 01049 |  107 |   25 |  1 |  0 |   0 |  13 |    6 |  0 |    8 | ... | 25.00 |  0.00 |  75.00 |  0.00 | 25.00 |  0.00 |  75.00 |  9.85 |  5.607477 | 0 |\n",
       "| 01052 |  196 |   75 |  1 |  1 |   1 |   4 |   47 |  1 |   14 | ... | 16.67 |  0.00 |  33.33 | 16.67 | 16.67 |  0.00 |  50.00 | 22.14 | 23.979592 | 0 |\n",
       "| 01054 |  759 |  260 |  8 |  5 |   7 |  21 |   64 |  3 |   76 | ... | 56.67 |  8.33 |  38.33 |  8.33 | 10.00 |  8.33 |  55.00 | 11.48 |  8.432148 | 0 |\n",
       "| ... | ... | ... | ... | ... | ... | ... | ... | ... | ... | <!----> | ... | ... | ... | ... | ... | ... | ... | ... | ... | ... |\n",
       "| 50261 |    163 |     42 |    0 |    1 |    13 |    25 |     96 |     1 |    26 | ... |  63.64 | 18.18 |  45.45 |  9.09 |  0.00 |  9.09 |  72.73 |  6.83 | 58.89571 | 1 |\n",
       "| 50262 |    857 |    311 |   17 |    9 |   105 |   123 |    428 |    34 |   125 | ... |  70.59 |  9.80 |  50.98 |  3.92 | 11.76 |  3.92 |  76.47 |  8.13 | 49.94166 | 1 |\n",
       "| 50263 |    113 |     74 |    3 |    1 |    11 |    15 |     69 |     4 |     5 | ... |  63.64 |  9.09 |  63.64 |  9.09 |  0.00 |  9.09 |  81.82 |  8.56 | 61.06195 | 1 |\n",
       "| 50270 |     30 |      7 |    0 |    0 |     3 |     6 |      5 |     0 |     5 | ... |   0.00 |  0.00 |   0.00 |  0.00 |  0.00 |  0.00 |   0.00 |  2.70 | 16.66667 | 0 |\n",
       "| 50271 |    212 |     36 |    3 |    4 |    46 |    57 |     75 |    12 |    12 | ... |   0.00 |  0.00 | 100.00 |  0.00 |  0.00 |  0.00 | 100.00 | 21.37 | 35.37736 | 1 |\n",
       "| 50272 |   7828 |   5460 |  107 |   64 |  1596 |  1185 |   2700 |   792 |   877 | ... |  69.20 | 11.84 |  48.67 |  2.78 | 12.92 |  4.11 |  69.44 |  8.17 | 34.49157 | 1 |\n",
       "| 50273 |     29 |      5 |    1 |    0 |     1 |    14 |     11 |     1 |     1 | ... |   0.00 |  0.00 |   0.00 |  0.00 |  0.00 |  0.00 |   0.00 |  2.94 | 37.93103 | 1 |\n",
       "| 50275 |     65 |     47 |    0 |    0 |     2 |    36 |     18 |     7 |     1 | ... |  50.00 |  0.00 |  50.00 |  0.00 |  0.00 |  0.00 | 100.00 |  4.46 | 27.69231 | 1 |\n",
       "| 50276 |    101 |     30 |    3 |    0 |    14 |    26 |     43 |     3 |     5 | ... |  66.67 |  0.00 |  66.67 | 33.33 |  0.00 |  0.00 |  66.67 | 13.74 | 42.57426 | 1 |\n",
       "| 50277 |     38 |     11 |    0 |    0 |     1 |    14 |      6 |     3 |     2 | ... |  66.67 |  0.00 | 100.00 |  0.00 |  0.00 |  0.00 | 100.00 |  2.04 | 15.78947 | 1 |\n",
       "| 50278 |    134 |     45 |    3 |    2 |    10 |    50 |     38 |    19 |     7 | ... | 100.00 |  0.00 |  57.14 |  0.00 |  0.00 | 14.29 |  85.71 | 15.08 | 28.35821 | 1 |\n",
       "| 50280 |    264 |     36 |    3 |    3 |    52 |    70 |    106 |     6 |    14 | ... |  25.00 |  0.00 |  50.00 | 25.00 | 50.00 |  0.00 |  25.00 | 13.00 | 40.15152 | 1 |\n",
       "| 50281 |     61 |      7 |    0 |    1 |    13 |    31 |     11 |     0 |     3 | ... |  75.00 | 25.00 |  75.00 |  0.00 | 25.00 |  0.00 |  50.00 |  2.94 | 18.03279 | 1 |\n",
       "| 50282 |     36 |     30 |    3 |    0 |     0 |    20 |     10 |     0 |     1 | ... |   0.00 |  0.00 |   0.00 |  0.00 |  0.00 |  0.00 |   0.00 |  6.06 | 27.77778 | 1 |\n",
       "| 50283 |     56 |     17 |    2 |    0 |    12 |    16 |     18 |     4 |     0 | ... | 100.00 | 20.00 |  20.00 | 40.00 | 20.00 |  0.00 |  40.00 |  6.85 | 32.14286 | 1 |\n",
       "| 50284 |    108 |     38 |    0 |    2 |     4 |    18 |     67 |     3 |    13 | ... |  50.00 |  0.00 | 100.00 |  0.00 |  0.00 |  0.00 | 100.00 |  9.59 | 62.03704 | 1 |\n",
       "| 50285 |    445 |    206 |    7 |    3 |    86 |   117 |    139 |    43 |    22 | ... |  71.43 |  8.57 |  54.29 |  2.86 | 17.14 |  0.00 |  74.29 |  9.37 | 31.23596 | 1 |\n",
       "| 50286 |     61 |     17 |    0 |    0 |     4 |    16 |     30 |     3 |     4 | ... |  50.00 |  0.00 | 100.00 |  0.00 |  0.00 | 25.00 |  75.00 |  5.13 | 49.18033 | 1 |\n",
       "| 50287 |    189 |     69 |   11 |    2 |    30 |    36 |     82 |     7 |    16 | ... |  25.00 |  0.00 |  50.00 | 37.50 |  0.00 |  0.00 |  50.00 | 18.22 | 43.38624 | 1 |\n",
       "| 50288 |   2348 |   1124 |   36 |   13 |   563 |   468 |    679 |   283 |   182 | ... |  64.04 |  7.30 |  62.36 |  2.81 | 15.17 |  3.93 |  73.03 | 16.47 | 28.91823 | 1 |\n",
       "| 50289 |     48 |      7 |    2 |    0 |     5 |    14 |     14 |     1 |     3 | ... |   0.00 |  0.00 |   0.00 |  0.00 |  0.00 |  0.00 |   0.00 |  0.00 | 29.16667 | 1 |\n",
       "| 50290 |    277 |     91 |   11 |    0 |    33 |    67 |    118 |    25 |    15 | ... |  42.11 |  5.26 |  84.21 | 31.58 |  5.26 | 21.05 |  36.84 | 12.50 | 42.59928 | 1 |\n",
       "| 50291 |     80 |     17 |    0 |    1 |    14 |    30 |     24 |     8 |     2 | ... | 100.00 |  0.00 |   0.00 |  0.00 |  0.00 |  0.00 | 100.00 | 11.34 | 30.00000 | 1 |\n",
       "| 50292 |    132 |     11 |    3 |    0 |    11 |    37 |     47 |    26 |     3 | ... |  57.14 |  0.00 |  57.14 | 42.86 |  0.00 | 14.29 |  42.86 | 18.18 | 35.60606 | 1 |\n",
       "| 50294 |     45 |     19 |    0 |    0 |     9 |    22 |     13 |     0 |     1 | ... |   0.00 |  0.00 |   0.00 |  0.00 |  0.00 |  0.00 |   0.00 |  6.25 | 28.88889 | 1 |\n",
       "| 50297 | 330675 | 173803 | 2708 | 1326 | 64433 | 64756 | 111529 | 28535 | 39631 | ... |  60.67 |  9.24 |  51.33 |  2.17 | 10.04 |  6.49 |  71.08 |  7.86 | 33.72768 | 1 |\n",
       "| 50901 |    102 |     38 |    1 |    0 |    14 |    17 |     39 |    17 |    10 | ... | 100.00 | 50.00 |   0.00 | 50.00 |  0.00 |  0.00 |  50.00 |  8.57 | 38.23529 | 1 |\n",
       "| 50902 |     66 |     13 |    3 |    1 |     9 |    29 |     14 |     4 |     3 | ... | 100.00 |  0.00 |  50.00 |  0.00 |  0.00 |  0.00 | 100.00 |  8.86 | 21.21212 | 1 |\n",
       "| 50903 |   1668 |    591 |   28 |   12 |   248 |   345 |    463 |   111 |   197 | ... |  57.78 | 15.56 |  51.11 |  1.11 | 15.56 |  5.56 |  65.56 |  9.56 | 27.75779 | 1 |\n",
       "| 51001 |  33103 |  26802 |  251 |  317 |  2527 |  8930 |  11008 |  6748 |  1108 | ... |  60.47 | 13.40 |  39.01 |  0.56 |  4.05 |  4.10 |  72.26 |  5.64 | 33.25378 | 1 |\n",
       "\n"
      ],
      "text/plain": [
       "     CodigoINE VotosEmitidos Abstenciones Blancos Nulos Cs    PP    PSOE  \n",
       "1    01001     1326           690         25      15     31    73    257  \n",
       "2    01002     5753          2294         62      57     69   254    784  \n",
       "3    01003      835           341          4       2      0     1     26  \n",
       "4    01004      999           355         11      12     21    83    106  \n",
       "5    01006      124            52          3       2      6    17     19  \n",
       "6    01008      531           272          4       2     22    43     75  \n",
       "7    01011      196            32          5       5      7    66     34  \n",
       "8    01013      474           238          1       5      3    23     47  \n",
       "9    01014      299            72          5       8     16    41     45  \n",
       "10   01018      909           499         11       3     11    53    129  \n",
       "11   01019      114            35          0       1      2    11      8  \n",
       "12   01023      195            67          3       0      6    35     23  \n",
       "13   01027      295           137          1       0      2    23     17  \n",
       "14   01028      795           288         17      19     13   180    133  \n",
       "15   01030      120            20          1       0      0    27     21  \n",
       "16   01031      953           216         28      48     33   213    124  \n",
       "17   01032      376           123          3      10      6    53     95  \n",
       "18   01033      555           104         16      11     18    77     99  \n",
       "19   01034      117            38          1       0      1     4     27  \n",
       "20   01036     9807          4941         74      72    198   551   1655  \n",
       "21   01037      451           137          5       4      2    32     32  \n",
       "22   01039      158            38          0       3      5    15     44  \n",
       "23   01041      122            31          0       3      3    49      6  \n",
       "24   01043     1543           794         39      19     76   212    398  \n",
       "25   01044      176            55          2       9      4    23     30  \n",
       "26   01046      465           171          9       1     18    40     66  \n",
       "27   01047      651           337         16       3     55    98    139  \n",
       "28   01049      107            25          1       0      0    13      6  \n",
       "29   01052      196            75          1       1      1     4     47  \n",
       "30   01054      759           260          8       5      7    21     64  \n",
       "...  ...       ...           ...          ...     ...   ...   ...   ...   \n",
       "6459 50261        163            42          0       1     13    25     96\n",
       "6460 50262        857           311         17       9    105   123    428\n",
       "6461 50263        113            74          3       1     11    15     69\n",
       "6462 50270         30             7          0       0      3     6      5\n",
       "6463 50271        212            36          3       4     46    57     75\n",
       "6464 50272       7828          5460        107      64   1596  1185   2700\n",
       "6465 50273         29             5          1       0      1    14     11\n",
       "6466 50275         65            47          0       0      2    36     18\n",
       "6467 50276        101            30          3       0     14    26     43\n",
       "6468 50277         38            11          0       0      1    14      6\n",
       "6469 50278        134            45          3       2     10    50     38\n",
       "6470 50280        264            36          3       3     52    70    106\n",
       "6471 50281         61             7          0       1     13    31     11\n",
       "6472 50282         36            30          3       0      0    20     10\n",
       "6473 50283         56            17          2       0     12    16     18\n",
       "6474 50284        108            38          0       2      4    18     67\n",
       "6475 50285        445           206          7       3     86   117    139\n",
       "6476 50286         61            17          0       0      4    16     30\n",
       "6477 50287        189            69         11       2     30    36     82\n",
       "6478 50288       2348          1124         36      13    563   468    679\n",
       "6479 50289         48             7          2       0      5    14     14\n",
       "6480 50290        277            91         11       0     33    67    118\n",
       "6481 50291         80            17          0       1     14    30     24\n",
       "6482 50292        132            11          3       0     11    37     47\n",
       "6483 50294         45            19          0       0      9    22     13\n",
       "6484 50297     330675        173803       2708    1326  64433 64756 111529\n",
       "6485 50901        102            38          1       0     14    17     39\n",
       "6486 50902         66            13          3       1      9    29     14\n",
       "6487 50903       1668           591         28      12    248   345    463\n",
       "6488 51001      33103         26802        251     317   2527  8930  11008\n",
       "     VOX   Podemos ... WomenUnemploymentPtge UnemployLess25_Ptge\n",
       "1    39     175    ... 55.40                  5.76              \n",
       "2    83     497    ... 61.46                  7.16              \n",
       "3     5      50    ... 42.86                  0.00              \n",
       "4     7      90    ... 71.74                  3.26              \n",
       "5     9      24    ... 44.44                 11.11              \n",
       "6    12      45    ... 55.88                 17.65              \n",
       "7     3       9    ... 66.67                 44.44              \n",
       "8     0      40    ... 44.44                  5.56              \n",
       "9     7      29    ... 69.23                  0.00              \n",
       "10    9      98    ... 61.22                 10.20              \n",
       "11    0       4    ... 66.67                  0.00              \n",
       "12    2      15    ... 76.92                 23.08              \n",
       "13    2      26    ... 60.00                 10.00              \n",
       "14   23      70    ... 57.53                  8.22              \n",
       "15    1      13    ... 33.33                  0.00              \n",
       "16   22      49    ... 58.82                  3.92              \n",
       "17    0      30    ... 81.08                  0.00              \n",
       "18    3      28    ... 62.96                  9.26              \n",
       "19    3       6    ... 33.33                  0.00              \n",
       "20   92    1068    ... 60.89                  8.28              \n",
       "21   10      38    ... 43.48                  4.35              \n",
       "22    0      18    ... 60.00                 20.00              \n",
       "23    1      12    ... 66.67                 33.33              \n",
       "24   38     156    ... 62.83                 12.17              \n",
       "25    0      14    ... 28.57                  0.00              \n",
       "26    8      45    ... 61.29                  6.45              \n",
       "27   15      40    ... 68.00                 10.00              \n",
       "28    0       8    ... 25.00                  0.00              \n",
       "29    1      14    ... 16.67                  0.00              \n",
       "30    3      76    ... 56.67                  8.33              \n",
       "...  ...   ...         ...                   ...                \n",
       "6459     1    26   ...  63.64                18.18              \n",
       "6460    34   125   ...  70.59                 9.80              \n",
       "6461     4     5   ...  63.64                 9.09              \n",
       "6462     0     5   ...   0.00                 0.00              \n",
       "6463    12    12   ...   0.00                 0.00              \n",
       "6464   792   877   ...  69.20                11.84              \n",
       "6465     1     1   ...   0.00                 0.00              \n",
       "6466     7     1   ...  50.00                 0.00              \n",
       "6467     3     5   ...  66.67                 0.00              \n",
       "6468     3     2   ...  66.67                 0.00              \n",
       "6469    19     7   ... 100.00                 0.00              \n",
       "6470     6    14   ...  25.00                 0.00              \n",
       "6471     0     3   ...  75.00                25.00              \n",
       "6472     0     1   ...   0.00                 0.00              \n",
       "6473     4     0   ... 100.00                20.00              \n",
       "6474     3    13   ...  50.00                 0.00              \n",
       "6475    43    22   ...  71.43                 8.57              \n",
       "6476     3     4   ...  50.00                 0.00              \n",
       "6477     7    16   ...  25.00                 0.00              \n",
       "6478   283   182   ...  64.04                 7.30              \n",
       "6479     1     3   ...   0.00                 0.00              \n",
       "6480    25    15   ...  42.11                 5.26              \n",
       "6481     8     2   ... 100.00                 0.00              \n",
       "6482    26     3   ...  57.14                 0.00              \n",
       "6483     0     1   ...   0.00                 0.00              \n",
       "6484 28535 39631   ...  60.67                 9.24              \n",
       "6485    17    10   ... 100.00                50.00              \n",
       "6486     4     3   ... 100.00                 0.00              \n",
       "6487   111   197   ...  57.78                15.56              \n",
       "6488  6748  1108   ...  60.47                13.40              \n",
       "     UnemployMore40_Ptge AgricultureUnemploymentPtge IndustryUnemploymentPtge\n",
       "1     48.20               2.88                       12.23                   \n",
       "2     47.71               3.58                       12.46                   \n",
       "3     64.29               0.00                       42.86                   \n",
       "4     50.00               3.26                       16.30                   \n",
       "5     44.44               0.00                        0.00                   \n",
       "6     67.65               2.94                       17.65                   \n",
       "7     44.44              44.44                       11.11                   \n",
       "8     61.11               0.00                       16.67                   \n",
       "9     46.15               0.00                       30.77                   \n",
       "10    44.90               0.00                       26.53                   \n",
       "11    83.33               0.00                       33.33                   \n",
       "12    46.15              15.38                        7.69                   \n",
       "13    40.00               0.00                       20.00                   \n",
       "14    47.95              21.92                       13.70                   \n",
       "15    66.67               0.00                        0.00                   \n",
       "16    39.22               3.92                       15.69                   \n",
       "17    35.14              16.22                        8.11                   \n",
       "18    48.15              27.78                       12.96                   \n",
       "19   100.00              50.00                       16.67                   \n",
       "20    50.44               2.96                       12.80                   \n",
       "21    47.83               0.00                       30.43                   \n",
       "22    70.00              10.00                       20.00                   \n",
       "23    33.33              33.33                        0.00                   \n",
       "24    38.16              17.11                       12.83                   \n",
       "25    42.86               0.00                       14.29                   \n",
       "26    51.61               6.45                        3.23                   \n",
       "27    36.00               2.00                       12.00                   \n",
       "28    75.00               0.00                       25.00                   \n",
       "29    33.33              16.67                       16.67                   \n",
       "30    38.33               8.33                       10.00                   \n",
       "...  ...                 ...                         ...                     \n",
       "6459  45.45               9.09                        0.00                   \n",
       "6460  50.98               3.92                       11.76                   \n",
       "6461  63.64               9.09                        0.00                   \n",
       "6462   0.00               0.00                        0.00                   \n",
       "6463 100.00               0.00                        0.00                   \n",
       "6464  48.67               2.78                       12.92                   \n",
       "6465   0.00               0.00                        0.00                   \n",
       "6466  50.00               0.00                        0.00                   \n",
       "6467  66.67              33.33                        0.00                   \n",
       "6468 100.00               0.00                        0.00                   \n",
       "6469  57.14               0.00                        0.00                   \n",
       "6470  50.00              25.00                       50.00                   \n",
       "6471  75.00               0.00                       25.00                   \n",
       "6472   0.00               0.00                        0.00                   \n",
       "6473  20.00              40.00                       20.00                   \n",
       "6474 100.00               0.00                        0.00                   \n",
       "6475  54.29               2.86                       17.14                   \n",
       "6476 100.00               0.00                        0.00                   \n",
       "6477  50.00              37.50                        0.00                   \n",
       "6478  62.36               2.81                       15.17                   \n",
       "6479   0.00               0.00                        0.00                   \n",
       "6480  84.21              31.58                        5.26                   \n",
       "6481   0.00               0.00                        0.00                   \n",
       "6482  57.14              42.86                        0.00                   \n",
       "6483   0.00               0.00                        0.00                   \n",
       "6484  51.33               2.17                       10.04                   \n",
       "6485   0.00              50.00                        0.00                   \n",
       "6486  50.00               0.00                        0.00                   \n",
       "6487  51.11               1.11                       15.56                   \n",
       "6488  39.01               0.56                        4.05                   \n",
       "     ConstructionUnemploymentPtge ServicesUnemploymentPtge AutonomosPtge\n",
       "1     3.60                         64.75                   10.27        \n",
       "2     5.87                         62.61                    7.84        \n",
       "3    14.29                         42.86                    4.59        \n",
       "4     3.26                         59.78                    8.05        \n",
       "5     0.00                        100.00                   11.36        \n",
       "6     0.00                         67.65                   13.45        \n",
       "7     0.00                         22.22                   35.53        \n",
       "8    11.11                         72.22                   17.56        \n",
       "9     0.00                         53.85                   11.05        \n",
       "10    4.08                         59.18                   13.49        \n",
       "11    0.00                         66.67                   18.79        \n",
       "12    7.69                         46.15                   32.06        \n",
       "13   10.00                         60.00                   17.82        \n",
       "14    6.85                         43.84                   12.83        \n",
       "15   66.67                         33.33                    5.71        \n",
       "16    1.96                         68.63                   20.44        \n",
       "17    8.11                         45.95                   22.24        \n",
       "18    1.85                         37.04                   19.58        \n",
       "19    0.00                         16.67                   20.65        \n",
       "20    5.05                         63.50                    5.28        \n",
       "21   13.04                         47.83                   13.44        \n",
       "22   10.00                         30.00                   15.82        \n",
       "23    0.00                         33.33                   33.99        \n",
       "24    4.28                         42.11                    7.70        \n",
       "25   14.29                         71.43                   16.02        \n",
       "26    3.23                         80.65                   13.36        \n",
       "27    8.00                         54.00                    8.00        \n",
       "28    0.00                         75.00                    9.85        \n",
       "29    0.00                         50.00                   22.14        \n",
       "30    8.33                         55.00                   11.48        \n",
       "...  ...                          ...                      ...          \n",
       "6459  9.09                         72.73                    6.83        \n",
       "6460  3.92                         76.47                    8.13        \n",
       "6461  9.09                         81.82                    8.56        \n",
       "6462  0.00                          0.00                    2.70        \n",
       "6463  0.00                        100.00                   21.37        \n",
       "6464  4.11                         69.44                    8.17        \n",
       "6465  0.00                          0.00                    2.94        \n",
       "6466  0.00                        100.00                    4.46        \n",
       "6467  0.00                         66.67                   13.74        \n",
       "6468  0.00                        100.00                    2.04        \n",
       "6469 14.29                         85.71                   15.08        \n",
       "6470  0.00                         25.00                   13.00        \n",
       "6471  0.00                         50.00                    2.94        \n",
       "6472  0.00                          0.00                    6.06        \n",
       "6473  0.00                         40.00                    6.85        \n",
       "6474  0.00                        100.00                    9.59        \n",
       "6475  0.00                         74.29                    9.37        \n",
       "6476 25.00                         75.00                    5.13        \n",
       "6477  0.00                         50.00                   18.22        \n",
       "6478  3.93                         73.03                   16.47        \n",
       "6479  0.00                          0.00                    0.00        \n",
       "6480 21.05                         36.84                   12.50        \n",
       "6481  0.00                        100.00                   11.34        \n",
       "6482 14.29                         42.86                   18.18        \n",
       "6483  0.00                          0.00                    6.25        \n",
       "6484  6.49                         71.08                    7.86        \n",
       "6485  0.00                         50.00                    8.57        \n",
       "6486  0.00                        100.00                    8.86        \n",
       "6487  5.56                         65.56                    9.56        \n",
       "6488  4.10                         72.26                    5.64        \n",
       "     varObjCont varObjBin\n",
       "1    19.381599  0        \n",
       "2    13.627673  0        \n",
       "3     3.113772  0        \n",
       "4    10.610611  0        \n",
       "5    15.322581  0        \n",
       "6    14.124294  0        \n",
       "7    17.346939  1        \n",
       "8     9.915612  0        \n",
       "9    15.050167  0        \n",
       "10   14.191419  0        \n",
       "11    7.017544  0        \n",
       "12   11.794872  0        \n",
       "13    5.762712  0        \n",
       "14   16.729560  0        \n",
       "15   17.500000  0        \n",
       "16   13.011542  0        \n",
       "17   25.265957  0        \n",
       "18   17.837838  0        \n",
       "19   23.076923  0        \n",
       "20   16.875701  0        \n",
       "21    7.095344  0        \n",
       "22   27.848101  0        \n",
       "23    4.918033  1        \n",
       "24   25.793908  1        \n",
       "25   17.045455  0        \n",
       "26   14.193548  0        \n",
       "27   21.351767  0        \n",
       "28    5.607477  0        \n",
       "29   23.979592  0        \n",
       "30    8.432148  0        \n",
       "...  ...        ...      \n",
       "6459 58.89571   1        \n",
       "6460 49.94166   1        \n",
       "6461 61.06195   1        \n",
       "6462 16.66667   0        \n",
       "6463 35.37736   1        \n",
       "6464 34.49157   1        \n",
       "6465 37.93103   1        \n",
       "6466 27.69231   1        \n",
       "6467 42.57426   1        \n",
       "6468 15.78947   1        \n",
       "6469 28.35821   1        \n",
       "6470 40.15152   1        \n",
       "6471 18.03279   1        \n",
       "6472 27.77778   1        \n",
       "6473 32.14286   1        \n",
       "6474 62.03704   1        \n",
       "6475 31.23596   1        \n",
       "6476 49.18033   1        \n",
       "6477 43.38624   1        \n",
       "6478 28.91823   1        \n",
       "6479 29.16667   1        \n",
       "6480 42.59928   1        \n",
       "6481 30.00000   1        \n",
       "6482 35.60606   1        \n",
       "6483 28.88889   1        \n",
       "6484 33.72768   1        \n",
       "6485 38.23529   1        \n",
       "6486 21.21212   1        \n",
       "6487 27.75779   1        \n",
       "6488 33.25378   1        "
      ]
     },
     "metadata": {},
     "output_type": "display_data"
    }
   ],
   "source": [
    "data_train"
   ]
  },
  {
   "cell_type": "code",
   "execution_count": 52,
   "id": "a949fec8",
   "metadata": {},
   "outputs": [
    {
     "data": {
      "text/plain": [
       "\n",
       "Call:\n",
       "lm(formula = varObjCont ~ VotosEmitidos + Abstenciones + Blancos + \n",
       "    Nulos + Cs + PP + VOX + Podemos + Otros + PartidoMasVotado, \n",
       "    data = data_train[, c(1:12, 42)])\n",
       "\n",
       "Residuals:\n",
       "    Min      1Q  Median      3Q     Max \n",
       "-25.610  -5.900  -0.263   5.759  45.087 \n",
       "\n",
       "Coefficients:\n",
       "                                              Estimate Std. Error t value\n",
       "(Intercept)                                  2.274e+01  5.102e+00   4.457\n",
       "VotosEmitidos                                2.941e-03  2.354e-04  12.496\n",
       "Abstenciones                                -2.778e-04  6.495e-05  -4.277\n",
       "Blancos                                     -4.977e-02  4.959e-03 -10.037\n",
       "Nulos                                       -7.144e-03  5.333e-03  -1.340\n",
       "Cs                                          -3.518e-03  5.640e-04  -6.237\n",
       "PP                                          -3.201e-03  3.374e-04  -9.487\n",
       "VOX                                         -4.959e-03  7.101e-04  -6.983\n",
       "Podemos                                     -4.487e-03  5.409e-04  -8.295\n",
       "Otros                                       -2.891e-03  2.303e-04 -12.555\n",
       "PartidoMasVotadoCCa-PNC                      5.951e+00  5.516e+00   1.079\n",
       "PartidoMasVotadoCEUS                        -2.273e+01  8.067e+00  -2.818\n",
       "PartidoMasVotadoCPE                         -7.312e-01  5.399e+00  -0.135\n",
       "PartidoMasVotadoCs                          -1.720e+00  5.282e+00  -0.326\n",
       "PartidoMasVotadoCXE                          2.099e+00  1.020e+01   0.206\n",
       "PartidoMasVotadoEAJ-PNV                     -1.138e+01  5.172e+00  -2.201\n",
       "PartidoMasVotadoEH BILDU-ORAIN ERREPUBLIKAK -1.180e+01  5.151e+00  -2.291\n",
       "PartidoMasVotadoEL PI                       -5.227e+00  8.066e+00  -0.648\n",
       "PartidoMasVotadoERC-ARA REPÚBLIQUES         -7.469e+00  5.206e+00  -1.435\n",
       "PartidoMasVotadoGBAI                        -8.425e+00  5.983e+00  -1.408\n",
       "PartidoMasVotadoJxCAT-JUNTS                 -1.277e+01  5.115e+00  -2.497\n",
       "PartidoMasVotadoPODEMOS-IU                   1.186e+00  5.391e+00   0.220\n",
       "PartidoMasVotadoPP                           2.869e+00  5.105e+00   0.562\n",
       "PartidoMasVotadoPSC                          5.329e+00  5.217e+00   1.021\n",
       "PartidoMasVotadoPSOE                         2.108e+01  5.104e+00   4.130\n",
       "PartidoMasVotadoRECORTES CERO-LV-GVE         5.897e+00  7.215e+00   0.817\n",
       "PartidoMasVotadoVOX                         -2.853e+00  6.098e+00  -0.468\n",
       "                                            Pr(>|t|)    \n",
       "(Intercept)                                 8.44e-06 ***\n",
       "VotosEmitidos                                < 2e-16 ***\n",
       "Abstenciones                                1.92e-05 ***\n",
       "Blancos                                      < 2e-16 ***\n",
       "Nulos                                        0.18042    \n",
       "Cs                                          4.74e-10 ***\n",
       "PP                                           < 2e-16 ***\n",
       "VOX                                         3.18e-12 ***\n",
       "Podemos                                      < 2e-16 ***\n",
       "Otros                                        < 2e-16 ***\n",
       "PartidoMasVotadoCCa-PNC                      0.28068    \n",
       "PartidoMasVotadoCEUS                         0.00485 ** \n",
       "PartidoMasVotadoCPE                          0.89227    \n",
       "PartidoMasVotadoCs                           0.74476    \n",
       "PartidoMasVotadoCXE                          0.83700    \n",
       "PartidoMasVotadoEAJ-PNV                      0.02780 *  \n",
       "PartidoMasVotadoEH BILDU-ORAIN ERREPUBLIKAK  0.02201 *  \n",
       "PartidoMasVotadoEL PI                        0.51696    \n",
       "PartidoMasVotadoERC-ARA REPÚBLIQUES          0.15142    \n",
       "PartidoMasVotadoGBAI                         0.15911    \n",
       "PartidoMasVotadoJxCAT-JUNTS                  0.01256 *  \n",
       "PartidoMasVotadoPODEMOS-IU                   0.82590    \n",
       "PartidoMasVotadoPP                           0.57413    \n",
       "PartidoMasVotadoPSC                          0.30714    \n",
       "PartidoMasVotadoPSOE                        3.67e-05 ***\n",
       "PartidoMasVotadoRECORTES CERO-LV-GVE         0.41379    \n",
       "PartidoMasVotadoVOX                          0.63987    \n",
       "---\n",
       "Signif. codes:  0 '***' 0.001 '**' 0.01 '*' 0.05 '.' 0.1 ' ' 1\n",
       "\n",
       "Residual standard error: 8.836 on 6461 degrees of freedom\n",
       "Multiple R-squared:  0.6672,\tAdjusted R-squared:  0.6658 \n",
       "F-statistic: 498.1 on 26 and 6461 DF,  p-value: < 2.2e-16\n"
      ]
     },
     "metadata": {},
     "output_type": "display_data"
    }
   ],
   "source": [
    "summary(modeloRL)"
   ]
  }
 ],
 "metadata": {
  "kernelspec": {
   "display_name": "R",
   "language": "R",
   "name": "ir"
  },
  "language_info": {
   "codemirror_mode": "r",
   "file_extension": ".r",
   "mimetype": "text/x-r-source",
   "name": "R",
   "pygments_lexer": "r",
   "version": "4.0.5"
  }
 },
 "nbformat": 4,
 "nbformat_minor": 5
}
